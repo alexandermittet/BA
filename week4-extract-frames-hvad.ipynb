{
 "cells": [
  {
   "cell_type": "code",
   "execution_count": 1,
   "metadata": {},
   "outputs": [],
   "source": [
    "#output_frames_path = r'C:\\Users\\alx\\Downloads\\BA_data\\val_frames'\n",
    "output_frames_path = r'C:\\Users\\alx\\Downloads\\BA_data\\frames'\n",
    "input_video_path = r'C:\\Users\\alx\\Downloads\\OneDrive_11_9-4-2023'\n",
    "\n",
    "#Prev: \n",
    "#'/Users/alexandermittet/Downloads/erda/OneDrive_8_9-4-2023'\n",
    "#6,7,8,9,10,11, 12, 13,14,15,16,17,18 - ,21,22\n",
    "#10 - ,19,20 er validation\n",
    "import cv2\n",
    "import os\n",
    "import cv2\n",
    "import numpy as np\n",
    "import random\n",
    "from tqdm import tqdm"
   ]
  },
  {
   "cell_type": "markdown",
   "metadata": {},
   "source": [
    "# Extract frames from video - folder"
   ]
  },
  {
   "cell_type": "code",
   "execution_count": 2,
   "metadata": {},
   "outputs": [
    {
     "name": "stdout",
     "output_type": "stream",
     "text": [
      "extracting OneDrive_21_9-4-2023\n"
     ]
    },
    {
     "name": "stderr",
     "output_type": "stream",
     "text": [
      "100%|██████████| 1003/1003 [01:17<00:00, 12.98it/s]\n"
     ]
    },
    {
     "name": "stdout",
     "output_type": "stream",
     "text": [
      "extracting OneDrive_22_9-4-2023\n"
     ]
    },
    {
     "name": "stderr",
     "output_type": "stream",
     "text": [
      "100%|██████████| 1001/1001 [01:16<00:00, 13.16it/s]"
     ]
    },
    {
     "name": "stdout",
     "output_type": "stream",
     "text": [
      "Frame extraction and classification completed.\n"
     ]
    },
    {
     "name": "stderr",
     "output_type": "stream",
     "text": [
      "\n"
     ]
    }
   ],
   "source": [
    "#MAIN\n",
    "for i in range(21,23):\n",
    "    input_video_path = f'C:\\\\Users\\\\alx\\\\Downloads\\\\OneDrive_{i}_9-4-2023'\n",
    "    print(f'extracting OneDrive_{i}_9-4-2023')\n",
    "    def calculate_sharpness_from_frame(frame):\n",
    "        # Convert the frame to grayscale\n",
    "        image = cv2.cvtColor(frame, cv2.COLOR_BGR2GRAY)\n",
    "        \n",
    "        # Apply the Laplacian filter\n",
    "        laplacian = cv2.Laplacian(image, cv2.CV_64F)\n",
    "        \n",
    "        # Calculate the variance of the Laplacian image\n",
    "        sharpness_score = np.var(laplacian)\n",
    "        return sharpness_score\n",
    "\n",
    "    # Create the output directory if it doesn't exist\n",
    "    if not os.path.exists(output_frames_path):\n",
    "        os.makedirs(output_frames_path)\n",
    "    # Iterate over all files in the video directory\n",
    "    for filename in tqdm(os.listdir(input_video_path)):\n",
    "        if filename.endswith(\".mp4\"): # Assuming videos are in mp4 format\n",
    "            current_video_path = os.path.join(input_video_path, filename)  # Full path to the video file\n",
    "            \n",
    "            # Open the video file\n",
    "            cap = cv2.VideoCapture(current_video_path)\n",
    "            \n",
    "            frame_count = 0\n",
    "            while cap.isOpened():\n",
    "                ret, frame = cap.read()\n",
    "                if not ret:\n",
    "                    break\n",
    "                \n",
    "                # Extract every 5th frame\n",
    "                if frame_count % 5 == 0:\n",
    "                    # Check the sharpness of the frame\n",
    "                    sharpness_score = calculate_sharpness_from_frame(frame)\n",
    "\n",
    "\n",
    "                    # Determine the class folder based on the sharpness score\n",
    "                    if sharpness_score > 2000:\n",
    "                        class_folder = os.path.join(output_frames_path, \"class-20p\")\n",
    "                    else:\n",
    "                        class_folder = os.path.join(output_frames_path, f\"class-{sharpness_score // 100}\")\n",
    "                    #Make it if it doesnt exist\n",
    "                    if not os.path.exists(class_folder):\n",
    "                        os.makedirs(class_folder)\n",
    "                    \n",
    "                    # Save the frame as a .jpg image in the appropriate class folder\n",
    "                    output_path = os.path.join(class_folder, f\"{filename.split('.')[0]}_f_{frame_count}.jpg\")\n",
    "                    cv2.imwrite(output_path, frame)\n",
    "                \n",
    "                frame_count += 1\n",
    "            \n",
    "            # Release the video capture object\n",
    "            cap.release()\n",
    "\n",
    "print(\"Frame extraction and classification completed.\")"
   ]
  },
  {
   "cell_type": "markdown",
   "metadata": {},
   "source": [
    "# how many files in here?"
   ]
  },
  {
   "cell_type": "code",
   "execution_count": 3,
   "metadata": {},
   "outputs": [
    {
     "name": "stdout",
     "output_type": "stream",
     "text": [
      "Total files in 'C:\\Users\\alx\\Downloads\\BA_data\\val_frames' and its subdirectories: 121573\n",
      "Total files in 'C:\\Users\\alx\\Downloads\\BA_data\\frames' and its subdirectories: 308428\n",
      "split is 0.3941697900320334\n"
     ]
    }
   ],
   "source": [
    "import os\n",
    "\n",
    "def count_files_in_dir(path):\n",
    "    total_files = 0\n",
    "    for dirpath, dirnames, filenames in os.walk(path):\n",
    "        total_files += len(filenames)\n",
    "    return total_files\n",
    "\n",
    "path1 =  r'C:\\Users\\alx\\Downloads\\BA_data\\val_frames'\n",
    "path2 = r'C:\\Users\\alx\\Downloads\\BA_data\\frames'\n",
    "total_files1 = count_files_in_dir(path1)\n",
    "print(f\"Total files in '{path1}' and its subdirectories: {total_files1}\")\n",
    "total_files2 = count_files_in_dir(path2)\n",
    "print(f\"Total files in '{path2}' and its subdirectories: {total_files2}\")\n",
    "\n",
    "print(f'split is {total_files1/total_files2}')"
   ]
  },
  {
   "cell_type": "markdown",
   "metadata": {},
   "source": [
    "# total size?"
   ]
  },
  {
   "cell_type": "code",
   "execution_count": 4,
   "metadata": {},
   "outputs": [
    {
     "name": "stdout",
     "output_type": "stream",
     "text": [
      "Total size in 'C:\\Users\\alx\\Downloads\\BA_data\\val_frames' and its subdirectories: 2.60 GB\n",
      "Total size in 'C:\\Users\\alx\\Downloads\\BA_data\\frames' and its subdirectories: 6.43 GB\n"
     ]
    }
   ],
   "source": [
    "import os\n",
    "\n",
    "def get_total_size_in_gb(path):\n",
    "    total_size_bytes = 0\n",
    "    for dirpath, dirnames, filenames in os.walk(path):\n",
    "        for f in filenames:\n",
    "            fp = os.path.join(dirpath, f)\n",
    "            # Check if it's a file and not a directory\n",
    "            if os.path.isfile(fp):\n",
    "                total_size_bytes += os.path.getsize(fp)\n",
    "    # Convert bytes to gigabytes\n",
    "    total_size_gb = total_size_bytes / (1024 ** 3)\n",
    "    return total_size_gb\n",
    "\n",
    "total_size_gb = get_total_size_in_gb(path1)\n",
    "print(f\"Total size in '{path1}' and its subdirectories: {total_size_gb:.2f} GB\")\n",
    "total_size_gb = get_total_size_in_gb(path2)\n",
    "print(f\"Total size in '{path2}' and its subdirectories: {total_size_gb:.2f} GB\")"
   ]
  },
  {
   "cell_type": "code",
   "execution_count": null,
   "metadata": {},
   "outputs": [],
   "source": []
  }
 ],
 "metadata": {
  "kernelspec": {
   "display_name": "BA",
   "language": "python",
   "name": "python3"
  },
  "language_info": {
   "codemirror_mode": {
    "name": "ipython",
    "version": 3
   },
   "file_extension": ".py",
   "mimetype": "text/x-python",
   "name": "python",
   "nbconvert_exporter": "python",
   "pygments_lexer": "ipython3",
   "version": "3.11.8"
  }
 },
 "nbformat": 4,
 "nbformat_minor": 2
}
