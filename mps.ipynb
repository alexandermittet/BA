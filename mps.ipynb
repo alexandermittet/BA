{
 "cells": [
  {
   "cell_type": "code",
   "execution_count": 1,
   "metadata": {},
   "outputs": [
    {
     "name": "stdout",
     "output_type": "stream",
     "text": [
      "MPS is available!\n"
     ]
    }
   ],
   "source": [
    "import torch\n",
    "\n",
    "def check_mps_availability():\n",
    "    \"\"\"Checks if MPS is available.\n",
    "\n",
    "    Returns:\n",
    "        bool: True if MPS is available, False otherwise.\n",
    "    \"\"\"\n",
    "\n",
    "    try:\n",
    "        # Check for MPS availability using the recommended method\n",
    "        is_mps_available = torch.backends.mps.is_available()\n",
    "        if is_mps_available:\n",
    "            print(\"MPS is available!\")\n",
    "            # You can use MPS for computations (if applicable)\n",
    "        else:\n",
    "            print(\"MPS is not available.\")\n",
    "\n",
    "    except ModuleNotFoundError:\n",
    "        # Handle the case where `torch.backends.mps` is not available (older PyTorch versions)\n",
    "        print(\"MPS functionality is not found in your PyTorch installation.\")\n",
    "\n",
    "if __name__ == \"__main__\":\n",
    "    check_mps_availability()\n"
   ]
  },
  {
   "cell_type": "code",
   "execution_count": 2,
   "metadata": {},
   "outputs": [
    {
     "name": "stdout",
     "output_type": "stream",
     "text": [
      "Metal information not found (or not supported on this system)\n"
     ]
    }
   ],
   "source": [
    "import platform\n",
    "\n",
    "def check_metal_version():\n",
    "    \"\"\"Attempts to check for Metal version using system information.\n",
    "\n",
    "    Returns:\n",
    "        str: The Metal version string (e.g., \"Metal 3\") if found, otherwise None.\n",
    "    \"\"\"\n",
    "\n",
    "    if hasattr(platform, 'system_version'):  # Check for attribute existence\n",
    "        system_info = platform.system_version()\n",
    "        if \"Metal\" in system_info:\n",
    "            # Extract the substring containing \"Metal\" and the following version number\n",
    "            metal_info = system_info.split(\"Metal\", maxsplit=1)[1].strip()\n",
    "            return metal_info\n",
    "        else:\n",
    "            return None\n",
    "    else:\n",
    "        # Handle systems without platform.system_version (e.g., Python 2)\n",
    "        return None\n",
    "\n",
    "metal_version = check_metal_version()\n",
    "\n",
    "if metal_version:\n",
    "    print(f\"Metal version: {metal_version}\")\n",
    "    # Check for Metal 3 by looking for \"Metal 3\" or higher\n",
    "    if metal_version.startswith(\"Metal 3\"):\n",
    "        print(\"Likely supports Metal 3\")\n",
    "    else:\n",
    "        print(\"May support older Metal versions\")\n",
    "else:\n",
    "    print(\"Metal information not found (or not supported on this system)\")\n"
   ]
  },
  {
   "cell_type": "code",
   "execution_count": 1,
   "metadata": {},
   "outputs": [
    {
     "name": "stdout",
     "output_type": "stream",
     "text": [
      "True\n",
      "i386\n"
     ]
    }
   ],
   "source": [
    "import platform\n",
    "import torch\n",
    "print(torch.backends.mps.is_available())\n",
    "print(platform.processor())"
   ]
  },
  {
   "cell_type": "code",
   "execution_count": null,
   "metadata": {},
   "outputs": [],
   "source": []
  }
 ],
 "metadata": {
  "kernelspec": {
   "display_name": "BA",
   "language": "python",
   "name": "python3"
  },
  "language_info": {
   "codemirror_mode": {
    "name": "ipython",
    "version": 3
   },
   "file_extension": ".py",
   "mimetype": "text/x-python",
   "name": "python",
   "nbconvert_exporter": "python",
   "pygments_lexer": "ipython3",
   "version": "3.11.7"
  }
 },
 "nbformat": 4,
 "nbformat_minor": 2
}
