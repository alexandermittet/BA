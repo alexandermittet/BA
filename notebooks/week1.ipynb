{
 "cells": [
  {
   "cell_type": "code",
   "execution_count": 15,
   "metadata": {},
   "outputs": [
    {
     "name": "stdout",
     "output_type": "stream",
     "text": [
      "2.2.0\n"
     ]
    }
   ],
   "source": [
    "# ML imports\n",
    "import pandas as pd #circular import?\n",
    "import torch\n",
    "from torch.utils.data import DataLoader, Dataset, WeightedRandomSampler\n",
    "from torchvision import transforms\n",
    "from PIL import Image\n",
    "import timm\n",
    "from sklearn.model_selection import train_test_split\n",
    "from prodigyopt import Prodigy\n",
    "\n",
    "#Logging imports\n",
    "import csv\n",
    "import os\n",
    "import datetime\n",
    "from pathlib import Path\n",
    "\n",
    "#Nice to have imports\n",
    "from pathlib import Path\n",
    "from tqdm import tqdm\n",
    "from mac_alerts import alerts\n",
    "\n",
    "print(torch.__version__)"
   ]
  },
  {
   "cell_type": "code",
   "execution_count": 16,
   "metadata": {},
   "outputs": [],
   "source": [
    "# For logging\n",
    "# Define the path to the log file\n",
    "log_file_path = os.path.join('logs', 'training_log.csv')\n",
    "\n",
    "# Create the logs directory if it doesn't exist\n",
    "if not os.path.exists('logs'):\n",
    "    os.makedirs('logs')\n",
    "\n",
    "# Open the log file in append mode\n",
    "with open(log_file_path, 'a', newline='') as log_file:\n",
    "    log_writer = csv.writer(log_file)\n",
    "    # Write the header if the file is empty\n",
    "    if os.path.getsize(log_file_path) ==   0:\n",
    "        log_writer.writerow(['Timestamp', 'Epoch', 'Batch', 'Loss', 'Val Loss', 'Best Val Loss', 'Improved'])\n"
   ]
  },
  {
   "cell_type": "code",
   "execution_count": 17,
   "metadata": {},
   "outputs": [],
   "source": [
    "# PARAMS\n",
    "single_shot = False\n",
    "learning_rate = 0.001 #Doesn't matter when using prodigy optimizer\n",
    "epochs = 50 #Max_limit"
   ]
  },
  {
   "cell_type": "code",
   "execution_count": 18,
   "metadata": {},
   "outputs": [],
   "source": [
    "# MODEL AND ARCHITECTURE\n",
    "# Initialize the model\n",
    "model = timm.create_model('vit_base_patch16_224', pretrained=True, num_classes=5) # Get model architecture\n",
    "# Specify the path to your model directory\n",
    "model_dir = 'models'\n",
    "model_file = 'best_model.pt'\n",
    "model_path = os.path.join(model_dir, model_file)\n",
    "\n",
    "# Check if the model directory exists, if not, create it\n",
    "if not os.path.exists(model_dir):\n",
    "    os.makedirs(model_dir)\n",
    "\n",
    "# Check if the model file exists, if not, handle accordingly (e.g., download or initialize)\n",
    "if not os.path.exists(model_path):\n",
    "    print(f\"Model file {model_path} does not exist. Using pretrained model.\")\n",
    "else:\n",
    "    # Load the state dictionary from the saved model\n",
    "    state_dict = torch.load(model_path)\n",
    "    # Update the model's state dictionary with the loaded state dictionary\n",
    "    model.load_state_dict(state_dict)\n",
    "\n",
    "# If you're using a GPU, you might need to move the model to the GPU\n",
    "if torch.cuda.is_available():\n",
    "    model = model.cuda()\n"
   ]
  },
  {
   "cell_type": "code",
   "execution_count": null,
   "metadata": {},
   "outputs": [],
   "source": [
    "# For logging\n",
    "# Define the path to the log file\n",
    "log_file_path = os.path.join('logs', 'training_log.csv')\n",
    "\n",
    "# Create the logs directory if it doesn't exist\n",
    "if not os.path.exists('logs'):\n",
    "    os.makedirs('logs')\n",
    "\n",
    "# Open the log file in append mode\n",
    "with open(log_file_path, 'a', newline='') as log_file:\n",
    "    log_writer = csv.writer(log_file)\n",
    "    # Write the header if the file is empty\n",
    "    if os.path.getsize(log_file_path) ==   0:\n",
    "        log_writer.writerow(['Timestamp', 'Epoch', 'Batch', 'Loss', 'Val Loss', 'Best Val Loss', 'Improved'])\n"
   ]
  },
  {
   "cell_type": "code",
   "execution_count": null,
   "metadata": {},
   "outputs": [],
   "source": [
    "# For logging\n",
    "# Define the path to the log file\n",
    "log_file_path = os.path.join('logs', 'training_log.csv')\n",
    "\n",
    "# Create the logs directory if it doesn't exist\n",
    "if not os.path.exists('logs'):\n",
    "    os.makedirs('logs')\n",
    "\n",
    "# Open the log file in append mode\n",
    "with open(log_file_path, 'a', newline='') as log_file:\n",
    "    log_writer = csv.writer(log_file)\n",
    "    # Write the header if the file is empty\n",
    "    if os.path.getsize(log_file_path) ==   0:\n",
    "        log_writer.writerow(['Timestamp', 'Epoch', 'Batch', 'Loss', 'Val Loss', 'Best Val Loss', 'Improved'])\n"
   ]
  },
  {
   "cell_type": "code",
   "execution_count": null,
   "metadata": {},
   "outputs": [],
   "source": [
    "# For logging\n",
    "# Define the path to the log file\n",
    "log_file_path = os.path.join('logs', 'training_log.csv')\n",
    "\n",
    "# Create the logs directory if it doesn't exist\n",
    "if not os.path.exists('logs'):\n",
    "    os.makedirs('logs')\n",
    "\n",
    "# Open the log file in append mode\n",
    "with open(log_file_path, 'a', newline='') as log_file:\n",
    "    log_writer = csv.writer(log_file)\n",
    "    # Write the header if the file is empty\n",
    "    if os.path.getsize(log_file_path) ==   0:\n",
    "        log_writer.writerow(['Timestamp', 'Epoch', 'Batch', 'Loss', 'Val Loss', 'Best Val Loss', 'Improved'])\n"
   ]
  },
  {
   "cell_type": "code",
   "execution_count": null,
   "metadata": {},
   "outputs": [],
   "source": [
    "# For logging\n",
    "# Define the path to the log file\n",
    "log_file_path = os.path.join('logs', 'training_log.csv')\n",
    "\n",
    "# Create the logs directory if it doesn't exist\n",
    "if not os.path.exists('logs'):\n",
    "    os.makedirs('logs')\n",
    "\n",
    "# Open the log file in append mode\n",
    "with open(log_file_path, 'a', newline='') as log_file:\n",
    "    log_writer = csv.writer(log_file)\n",
    "    # Write the header if the file is empty\n",
    "    if os.path.getsize(log_file_path) ==   0:\n",
    "        log_writer.writerow(['Timestamp', 'Epoch', 'Batch', 'Loss', 'Val Loss', 'Best Val Loss', 'Improved'])\n"
   ]
  },
  {
   "cell_type": "code",
   "execution_count": null,
   "metadata": {},
   "outputs": [],
   "source": [
    "# For logging\n",
    "# Define the path to the log file\n",
    "log_file_path = os.path.join('logs', 'training_log.csv')\n",
    "\n",
    "# Create the logs directory if it doesn't exist\n",
    "if not os.path.exists('logs'):\n",
    "    os.makedirs('logs')\n",
    "\n",
    "# Open the log file in append mode\n",
    "with open(log_file_path, 'a', newline='') as log_file:\n",
    "    log_writer = csv.writer(log_file)\n",
    "    # Write the header if the file is empty\n",
    "    if os.path.getsize(log_file_path) ==   0:\n",
    "        log_writer.writerow(['Timestamp', 'Epoch', 'Batch', 'Loss', 'Val Loss', 'Best Val Loss', 'Improved'])\n"
   ]
  },
  {
   "cell_type": "code",
   "execution_count": 19,
   "metadata": {},
   "outputs": [
    {
     "data": {
      "text/plain": [
       "'\\nscore\\n4.0    823\\n0.0    822\\n1.0    452\\n2.0    351\\n3.0    113\\nName: count, dtype: int64 score\\n4.0    32.135884\\n0.0    32.096837\\n1.0    17.649356\\n2.0    13.705584\\n3.0     4.412339\\nName: count, dtype: float64\\n'"
      ]
     },
     "execution_count": 19,
     "metadata": {},
     "output_type": "execute_result"
    }
   ],
   "source": [
    "# WEIGHTED RANDOM SAMPLER\n",
    "\n",
    "# score_counts = df['score'].value_counts()\n",
    "# percentage = score_counts / len(df) * 100\n",
    "# print(score_counts, percentage)\n",
    "\n",
    "weights = torch.tensor([0.32096837,  0.17649356,  0.13705584,  0.04412339, 0.32135884])\n",
    "sampler = WeightedRandomSampler(weights, len(weights))\n",
    "\n",
    "'''\n",
    "score\n",
    "4.0    823\n",
    "0.0    822\n",
    "1.0    452\n",
    "2.0    351\n",
    "3.0    113\n",
    "Name: count, dtype: int64 score\n",
    "4.0    32.135884\n",
    "0.0    32.096837\n",
    "1.0    17.649356\n",
    "2.0    13.705584\n",
    "3.0     4.412339\n",
    "Name: count, dtype: float64\n",
    "'''"
   ]
  },
  {
   "cell_type": "code",
   "execution_count": 20,
   "metadata": {},
   "outputs": [],
   "source": [
    "#DATA LABELS\n",
    "#import pandas as pd\n",
    "df = pd.read_csv('img_labels_ALL.csv')\n",
    "\n",
    "\n",
    "class CustomDataset(Dataset):\n",
    "    def __init__(self, df, transform=None):\n",
    "        self.df = df\n",
    "        self.transform = transform\n",
    "\n",
    "    def __len__(self):\n",
    "        return len(self.df)\n",
    "\n",
    "    def __getitem__(self, idx):\n",
    "        img_name = self.df.iloc[idx, 0]\n",
    "        img_path = f'img/{img_name}'\n",
    "        image = Image.open(img_path).convert('RGB')\n",
    "        label = torch.tensor(self.df.iloc[idx, 2], dtype=torch.long)\n",
    "        if self.transform:\n",
    "            image = self.transform(image)\n",
    "        return image, label\n",
    "\n",
    "# Define the transformations\n",
    "# transform = transforms.Compose([\n",
    "#     transforms.Resize((224,   224)),\n",
    "#     transforms.ToTensor(),\n",
    "#     transforms.Normalize(mean=[0.485,   0.456,   0.406], std=[0.229,   0.224,   0.225]),\n",
    "# ])\n",
    "\n",
    "transform = timm.data.create_transform(\n",
    "    **timm.data.resolve_data_config(model.pretrained_cfg))\n",
    "\n",
    "# TEST SET\n",
    "train_df, test_df = train_test_split(df, test_size=0.2, random_state=42)\n",
    "test_data = CustomDataset(test_df, transform)\n",
    "test_loader = DataLoader(test_data, batch_size=32, shuffle=False)\n",
    "\n",
    "# VALIDATION SET + TRAINING SET\n",
    "train_df, val_df = train_test_split(train_df, test_size=0.2, random_state=42)\n",
    "# Create data loaders for training and validation sets\n",
    "train_data = CustomDataset(train_df, transform)\n",
    "val_data = CustomDataset(val_df, transform)\n",
    "\n",
    "train_loader = DataLoader(train_data, batch_size=32, sampler=sampler)\n",
    "val_loader = DataLoader(val_data, batch_size=32, shuffle=False)\n",
    "\n",
    "\n",
    "# Define loss function and optimizer\n",
    "criterion = torch.nn.CrossEntropyLoss()\n",
    "#optimizer = torch.optim.Adam(model.parameters(), lr=learning_rate)\n",
    "optimizer = Prodigy(model.parameters())\n"
   ]
  },
  {
   "cell_type": "code",
   "execution_count": 21,
   "metadata": {},
   "outputs": [],
   "source": [
    "# SETUP\"\n",
    "\n",
    "# Define a function to evaluate the model on the validation set\n",
    "def evaluate_on_validation_set(model, val_loader):\n",
    "    model.eval()\n",
    "    total_loss =  0\n",
    "    with torch.no_grad():\n",
    "        for inputs, labels in val_loader:\n",
    "            outputs = model(inputs)\n",
    "            loss = criterion(outputs, labels.long())\n",
    "            total_loss += loss.item()\n",
    "    return total_loss / len(val_loader)\n",
    "\n",
    "\n",
    "# Get the current working directory\n",
    "cwd = os.getcwd()\n",
    "\n",
    "# Define paths for saving models relative to the current working directory\n",
    "model_dir = os.path.join(cwd, \"models\")\n",
    "best_model_path = os.path.join(model_dir, \"best_model.pt\")\n",
    "last_model_path = os.path.join(model_dir, \"last_model.pt\")\n",
    "\n",
    "# Initialize best validation loss\n",
    "best_val_loss = float('inf')"
   ]
  },
  {
   "cell_type": "code",
   "execution_count": 22,
   "metadata": {},
   "outputs": [
    {
     "name": "stderr",
     "output_type": "stream",
     "text": [
      "  0%|          | 0/50 [00:17<?, ?it/s]\n"
     ]
    },
    {
     "ename": "KeyboardInterrupt",
     "evalue": "",
     "output_type": "error",
     "traceback": [
      "\u001b[0;31m---------------------------------------------------------------------------\u001b[0m",
      "\u001b[0;31mKeyboardInterrupt\u001b[0m                         Traceback (most recent call last)",
      "Cell \u001b[0;32mIn[22], line 9\u001b[0m\n\u001b[1;32m      7\u001b[0m outputs \u001b[38;5;241m=\u001b[39m model(inputs)\n\u001b[1;32m      8\u001b[0m loss \u001b[38;5;241m=\u001b[39m criterion(outputs, labels\u001b[38;5;241m.\u001b[39mlong())  \u001b[38;5;66;03m# Ensure labels are long integers\u001b[39;00m\n\u001b[0;32m----> 9\u001b[0m \u001b[43mloss\u001b[49m\u001b[38;5;241;43m.\u001b[39;49m\u001b[43mbackward\u001b[49m\u001b[43m(\u001b[49m\u001b[43m)\u001b[49m\n\u001b[1;32m     10\u001b[0m optimizer\u001b[38;5;241m.\u001b[39mstep()\n\u001b[1;32m     11\u001b[0m \u001b[38;5;66;03m# Save weights per batch\u001b[39;00m\n",
      "File \u001b[0;32m~/miniconda3/envs/BA/lib/python3.11/site-packages/torch/_tensor.py:522\u001b[0m, in \u001b[0;36mTensor.backward\u001b[0;34m(self, gradient, retain_graph, create_graph, inputs)\u001b[0m\n\u001b[1;32m    512\u001b[0m \u001b[38;5;28;01mif\u001b[39;00m has_torch_function_unary(\u001b[38;5;28mself\u001b[39m):\n\u001b[1;32m    513\u001b[0m     \u001b[38;5;28;01mreturn\u001b[39;00m handle_torch_function(\n\u001b[1;32m    514\u001b[0m         Tensor\u001b[38;5;241m.\u001b[39mbackward,\n\u001b[1;32m    515\u001b[0m         (\u001b[38;5;28mself\u001b[39m,),\n\u001b[0;32m   (...)\u001b[0m\n\u001b[1;32m    520\u001b[0m         inputs\u001b[38;5;241m=\u001b[39minputs,\n\u001b[1;32m    521\u001b[0m     )\n\u001b[0;32m--> 522\u001b[0m \u001b[43mtorch\u001b[49m\u001b[38;5;241;43m.\u001b[39;49m\u001b[43mautograd\u001b[49m\u001b[38;5;241;43m.\u001b[39;49m\u001b[43mbackward\u001b[49m\u001b[43m(\u001b[49m\n\u001b[1;32m    523\u001b[0m \u001b[43m    \u001b[49m\u001b[38;5;28;43mself\u001b[39;49m\u001b[43m,\u001b[49m\u001b[43m \u001b[49m\u001b[43mgradient\u001b[49m\u001b[43m,\u001b[49m\u001b[43m \u001b[49m\u001b[43mretain_graph\u001b[49m\u001b[43m,\u001b[49m\u001b[43m \u001b[49m\u001b[43mcreate_graph\u001b[49m\u001b[43m,\u001b[49m\u001b[43m \u001b[49m\u001b[43minputs\u001b[49m\u001b[38;5;241;43m=\u001b[39;49m\u001b[43minputs\u001b[49m\n\u001b[1;32m    524\u001b[0m \u001b[43m\u001b[49m\u001b[43m)\u001b[49m\n",
      "File \u001b[0;32m~/miniconda3/envs/BA/lib/python3.11/site-packages/torch/autograd/__init__.py:266\u001b[0m, in \u001b[0;36mbackward\u001b[0;34m(tensors, grad_tensors, retain_graph, create_graph, grad_variables, inputs)\u001b[0m\n\u001b[1;32m    261\u001b[0m     retain_graph \u001b[38;5;241m=\u001b[39m create_graph\n\u001b[1;32m    263\u001b[0m \u001b[38;5;66;03m# The reason we repeat the same comment below is that\u001b[39;00m\n\u001b[1;32m    264\u001b[0m \u001b[38;5;66;03m# some Python versions print out the first line of a multi-line function\u001b[39;00m\n\u001b[1;32m    265\u001b[0m \u001b[38;5;66;03m# calls in the traceback and some print out the last line\u001b[39;00m\n\u001b[0;32m--> 266\u001b[0m \u001b[43mVariable\u001b[49m\u001b[38;5;241;43m.\u001b[39;49m\u001b[43m_execution_engine\u001b[49m\u001b[38;5;241;43m.\u001b[39;49m\u001b[43mrun_backward\u001b[49m\u001b[43m(\u001b[49m\u001b[43m  \u001b[49m\u001b[38;5;66;43;03m# Calls into the C++ engine to run the backward pass\u001b[39;49;00m\n\u001b[1;32m    267\u001b[0m \u001b[43m    \u001b[49m\u001b[43mtensors\u001b[49m\u001b[43m,\u001b[49m\n\u001b[1;32m    268\u001b[0m \u001b[43m    \u001b[49m\u001b[43mgrad_tensors_\u001b[49m\u001b[43m,\u001b[49m\n\u001b[1;32m    269\u001b[0m \u001b[43m    \u001b[49m\u001b[43mretain_graph\u001b[49m\u001b[43m,\u001b[49m\n\u001b[1;32m    270\u001b[0m \u001b[43m    \u001b[49m\u001b[43mcreate_graph\u001b[49m\u001b[43m,\u001b[49m\n\u001b[1;32m    271\u001b[0m \u001b[43m    \u001b[49m\u001b[43minputs\u001b[49m\u001b[43m,\u001b[49m\n\u001b[1;32m    272\u001b[0m \u001b[43m    \u001b[49m\u001b[43mallow_unreachable\u001b[49m\u001b[38;5;241;43m=\u001b[39;49m\u001b[38;5;28;43;01mTrue\u001b[39;49;00m\u001b[43m,\u001b[49m\n\u001b[1;32m    273\u001b[0m \u001b[43m    \u001b[49m\u001b[43maccumulate_grad\u001b[49m\u001b[38;5;241;43m=\u001b[39;49m\u001b[38;5;28;43;01mTrue\u001b[39;49;00m\u001b[43m,\u001b[49m\n\u001b[1;32m    274\u001b[0m \u001b[43m\u001b[49m\u001b[43m)\u001b[49m\n",
      "\u001b[0;31mKeyboardInterrupt\u001b[0m: "
     ]
    }
   ],
   "source": [
    "#TRAINING LOOP\n",
    "# Wrap both loops with tqdm for progress visualization\n",
    "for epoch in tqdm(range(epochs)):  # loop over the dataset multiple times\n",
    "    for i, data in tqdm(enumerate(train_loader,   0), desc=f\"Epoch {epoch +  1}\", leave=False):\n",
    "        inputs, labels = data\n",
    "        optimizer.zero_grad()\n",
    "        outputs = model(inputs)\n",
    "        loss = criterion(outputs, labels.long())  # Ensure labels are long integers\n",
    "        loss.backward()\n",
    "        optimizer.step()\n",
    "        # Save weights per batch\n",
    "        torch.save(model.state_dict(), last_model_path)\n",
    "        print(f\"Batch {i + 1}/{len(train_loader)}: Loss {loss.item():.4f}\", end=\"\\r\")\n",
    "\n",
    "        # Log the loss and other metrics\n",
    "        with open(log_file_path, 'a', newline='') as log_file:\n",
    "            log_writer = csv.writer(log_file)\n",
    "            log_writer.writerow([datetime.datetime.now(), epoch +   1, i +   1, loss.item(), val_loss, best_val_loss, improved])\n",
    "\n",
    "\n",
    "        if single_shot:\n",
    "            break #after the first batch\n",
    "\n",
    "    # Evaluate the model on the validation set\n",
    "    val_loss = evaluate_on_validation_set(model, val_loader)  # Replace with your actual evaluation function\n",
    "    improved = val_loss < best_val_loss\n",
    "\n",
    "    # Check if the current model is better than the best model\n",
    "    if val_loss < best_val_loss:\n",
    "        best_val_loss = val_loss\n",
    "        torch.save(model.state_dict(), best_model_path)\n",
    "\n",
    "    print(f\"Epoch: {epoch + 1}/{epochs}, Val Loss: {val_loss:.4f}, Best Val Loss: {best_val_loss:.4f}, Improved: {improved}\")\n",
    "    \n",
    "    # Log the loss and other metrics\n",
    "    with open(log_file_path, 'a', newline='') as log_file:\n",
    "        log_writer = csv.writer(log_file)\n",
    "        log_writer.writerow([datetime.datetime.now(), epoch +   1, i +   1, loss.item(), val_loss, best_val_loss, improved])\n",
    "\n",
    "\n",
    "\n",
    "\n",
    "# alerts.play_success()\n",
    "# os.system('say \"Træning færdig\"'); print('\\a\\a\\a')"
   ]
  },
  {
   "cell_type": "markdown",
   "metadata": {},
   "source": [
    "## parallel evaluations of test set"
   ]
  },
  {
   "cell_type": "code",
   "execution_count": null,
   "metadata": {},
   "outputs": [
    {
     "name": "stderr",
     "output_type": "stream",
     "text": [
      "Evaluating:   0%|          | 0/513 [00:00<?, ?it/s]"
     ]
    },
    {
     "name": "stderr",
     "output_type": "stream",
     "text": [
      "Evaluating: 100%|██████████| 513/513 [01:15<00:00,  6.83it/s]\n",
      "/Users/alexandermittet/miniconda3/envs/BA/lib/python3.11/site-packages/sklearn/metrics/_classification.py:1497: UndefinedMetricWarning: Precision is ill-defined and being set to 0.0 in labels with no predicted samples. Use `zero_division` parameter to control this behavior.\n",
      "  _warn_prf(average, modifier, f\"{metric.capitalize()} is\", len(result))\n",
      "/Users/alexandermittet/miniconda3/envs/BA/lib/python3.11/site-packages/sklearn/metrics/_classification.py:1497: UndefinedMetricWarning: Precision is ill-defined and being set to 0.0 in labels with no predicted samples. Use `zero_division` parameter to control this behavior.\n",
      "  _warn_prf(average, modifier, f\"{metric.capitalize()} is\", len(result))\n",
      "/Users/alexandermittet/miniconda3/envs/BA/lib/python3.11/site-packages/sklearn/metrics/_classification.py:1497: UndefinedMetricWarning: Precision is ill-defined and being set to 0.0 in labels with no predicted samples. Use `zero_division` parameter to control this behavior.\n",
      "  _warn_prf(average, modifier, f\"{metric.capitalize()} is\", len(result))\n"
     ]
    },
    {
     "name": "stdout",
     "output_type": "stream",
     "text": [
      "              precision    recall  f1-score   support\n",
      "\n",
      "           0       0.32      0.98      0.49       165\n",
      "           1       0.00      0.00      0.00        87\n",
      "           2       0.00      0.00      0.00        84\n",
      "           3       0.00      0.00      0.00        15\n",
      "           4       0.15      0.01      0.02       162\n",
      "\n",
      "    accuracy                           0.32       513\n",
      "   macro avg       0.10      0.20      0.10       513\n",
      "weighted avg       0.15      0.32      0.16       513\n",
      "\n",
      "\u0007\u0007\u0007\n"
     ]
    }
   ],
   "source": [
    "from sklearn.metrics import classification_report\n",
    "from concurrent.futures import ThreadPoolExecutor\n",
    "from tqdm import tqdm\n",
    "\n",
    "def evaluate_single_sample(i):\n",
    "    # Get the sample from the dataset\n",
    "    sample, true_label = test_data[i]\n",
    "    \n",
    "    # Pass the sample through the model\n",
    "    with torch.no_grad():\n",
    "        prediction = model(sample.unsqueeze(0))  # Unsqueeze to add batch dimension\n",
    "    \n",
    "    # Convert the prediction to a class label\n",
    "    _, predicted_class = torch.max(prediction, dim=1)\n",
    "    \n",
    "    # Return the true label and the predicted class\n",
    "    return true_label.item(), predicted_class.item()\n",
    "\n",
    "# Ensure the model is in evaluation mode\n",
    "model.eval()\n",
    "\n",
    "# Shared lists to store true labels and predicted classes\n",
    "true_labels_list = []\n",
    "predicted_classes_list = []\n",
    "\n",
    "# Create a thread pool executor\n",
    "with ThreadPoolExecutor() as executor:\n",
    "    # Evaluate all samples in parallel and collect results\n",
    "    results = list(tqdm(executor.map(evaluate_single_sample, range(len(test_data))), total=len(test_data), desc='Evaluating'))\n",
    "\n",
    "# Collect the true labels and predicted classes from the results\n",
    "for true_label, predicted_class in results:\n",
    "    true_labels_list.append(true_label)\n",
    "    predicted_classes_list.append(predicted_class)\n",
    "\n",
    "# Generate the classification report\n",
    "report = classification_report(true_labels_list, predicted_classes_list)\n",
    "\n",
    "# Print the classification report\n",
    "print(report)\n",
    "\n",
    "# Play a success sound\n",
    "from mac_alerts import alerts\n",
    "import os\n",
    "alerts.play_success()\n",
    "os.system('say \"Evaluering færdig\"') \n",
    "print('\\a\\a\\a')"
   ]
  }
 ],
 "metadata": {
  "kernelspec": {
   "display_name": "BA",
   "language": "python",
   "name": "python3"
  },
  "language_info": {
   "codemirror_mode": {
    "name": "ipython",
    "version": 3
   },
   "file_extension": ".py",
   "mimetype": "text/x-python",
   "name": "python",
   "nbconvert_exporter": "python",
   "pygments_lexer": "ipython3",
   "version": "3.11.7"
  }
 },
 "nbformat": 4,
 "nbformat_minor": 2
}
