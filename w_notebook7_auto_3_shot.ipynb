{
 "cells": [
  {
   "cell_type": "markdown",
   "metadata": {},
   "source": [
    "# Hyperparams"
   ]
  },
  {
   "cell_type": "code",
   "execution_count": 1,
   "metadata": {},
   "outputs": [
    {
     "data": {
      "text/plain": [
       "'\\nTODO automatically do 3 mes runs\\n    DONE?\\nTODO check validation f1 score during mes training \\n    DONE\\nTODO save model when validation f1 score is best\\n    DONE?\\n'"
      ]
     },
     "execution_count": 1,
     "metadata": {},
     "output_type": "execute_result"
    }
   ],
   "source": [
    "#pip install torch torchvision torchaudio --index-url https://download.pytorch.org/whl/cu118\n",
    "'''\n",
    "TODO automatically do 3 mes runs\n",
    "    DONE?\n",
    "TODO check validation f1 score during mes training \n",
    "    DONE\n",
    "TODO save model when validation f1 score is best\n",
    "    DONE?\n",
    "'''"
   ]
  },
  {
   "cell_type": "code",
   "execution_count": 2,
   "metadata": {},
   "outputs": [],
   "source": [
    "import time\n",
    "import os\n",
    "start_time = time.time()\n",
    "import torch\n",
    "from torch.utils.tensorboard import SummaryWriter\n",
    "device = torch.device(\"cuda\" if torch.cuda.is_available() else \"cpu\")\n",
    "\n",
    "# wandb.init(project=\"BA-MAE\", entity=\"alexandermittet\")\n",
    "\n",
    "########### PATHS ############\n",
    "pretrain_path =     r'C:\\Users\\alx\\Downloads\\BA_data\\frames'\n",
    "#for t-sne:\n",
    "pretrain_path_imgs = '/Users/alexandermittet/Library/CloudStorage/SeaDrive-almi(seafile.erda.dk) (14.03.2024 13.32)/My Libraries/BA_data/frames/class_0'\n",
    "val_path =          r'C:\\Users\\alx\\Downloads\\BA_data\\val_frames'\n",
    "#for t-sne:\n",
    "val_path_imgs =     \"/Users/alexandermittet/Library/CloudStorage/SeaDrive-almi(seafile.erda.dk) (14.03.2024 13.32)/My Libraries/BA_data/validation_frames/class_0\"\n",
    "fine_tune_path =    'C:\\\\Users\\\\alx\\\\Downloads\\\\img\\\\img'\n",
    "\n",
    "########### HYPER PARAMETERS ############\n",
    "### MODEL SIZE\n",
    "emb_dims =          192#192 #skal ku duvuderes med num_heads som er 4 \n",
    "                    #85M params i TIMM classifiers, så den har vi smags til at 190*4 passer med 12 layers\n",
    "encoder_layers =    12#12 i timm\n",
    "\n",
    "### Pretraining\n",
    "training =          True #Pre-training MAE\n",
    "num_epochs =        33\n",
    "dim =               224\n",
    "mask_ratio =        0.50\n",
    "\n",
    "### Global hyper params\n",
    "custom_opt =            \"prodigy\" #bliver også brugt til fine tuning\n",
    "learn_rate =            0.001\n",
    "MAE_batch_size =        128\n",
    "mes_batch_size =        32\n",
    "load_prev_model =       False #MAE load\n",
    "mae_to_load =           'mae_best.pth'\n",
    "load_prev_model_dir =   f\"C:\\\\Users\\\\alx\\Downloads\\\\mdl_ckpt\\\\mae_m-{mask_ratio}\" #MAE load\n",
    "load_prev_model_path =  os.path.join(load_prev_model_dir, mae_to_load)\n",
    "\n",
    "\n",
    "three_shot = True #auto 3-shot mes runs w/plots\n",
    "\n",
    "if not three_shot:\n",
    "    model_used =        \"last\"\n",
    "    load_prev_fine_model_path   = f'C:\\\\Users\\\\alx\\\\Downloads\\\\mdl_ckpt\\\\mes_m-0.5\\\\mes_{model_used}.pth' # Mes load everytime if single run\n",
    "load_fine_tuned =   True or three_shot #meS vi bliver nødt til, for at evaluere MES best.pth (og ikke last, som vi stadig ligger i memory)\n",
    "\n",
    "\n",
    "\n",
    "### Fine-tuning\n",
    "fine_tuning =       False or three_shot #MES training\n",
    "num_fine_epochs =   20 #overfitter efter færre faktisk, men vi gemmer også best\n",
    "fine_tune_eval =    True or three_shot\n",
    "\n",
    "\n",
    "### T-sne feature plotting\n",
    "tsne_plotting =     False\n",
    "tsne_target =       \"validation images\"\n",
    "plot_single_image = False\n",
    "plot_16_images =    False or load_prev_model\n",
    "\n",
    "### Misc\n",
    "get_num_params =    False\n",
    "break_after_num_steps = -1\n",
    "use_class4 =        False\n",
    "\n",
    "run_name =          f\"opt_{custom_opt}_max-e-{num_epochs}_m-{mask_ratio}_fine-e-{num_fine_epochs}_MAE_mes-bs-{MAE_batch_size}_{mes_batch_size}_emb_dim-{emb_dims}\" #hyperparam string"
   ]
  },
  {
   "cell_type": "markdown",
   "metadata": {},
   "source": [
    "## Dataset"
   ]
  },
  {
   "cell_type": "code",
   "execution_count": 3,
   "metadata": {},
   "outputs": [
    {
     "name": "stderr",
     "output_type": "stream",
     "text": [
      "c:\\Users\\alx\\miniconda3.2\\envs\\BA\\Lib\\site-packages\\tqdm\\auto.py:21: TqdmWarning: IProgress not found. Please update jupyter and ipywidgets. See https://ipywidgets.readthedocs.io/en/stable/user_install.html\n",
      "  from .autonotebook import tqdm as notebook_tqdm\n"
     ]
    }
   ],
   "source": [
    "import os\n",
    "from PIL import Image\n",
    "from torch.utils.data import Dataset\n",
    "from torchvision.datasets import ImageFolder\n",
    "from torchvision import transforms\n",
    "#import torch.optim as optim #bruger prodigy\n",
    "from torch.utils.data import DataLoader\n",
    "import numpy as np\n",
    "from prodigyopt import Prodigy\n",
    "from torch.optim import AdamW\n",
    "import lightning as L\n",
    "# import wandb\n",
    "\n",
    "from einops import repeat, rearrange\n",
    "from einops.layers.torch import Rearrange\n",
    "\n",
    "from timm.models.layers import trunc_normal_\n",
    "from timm.models.vision_transformer import Block\n",
    "from tqdm import tqdm\n",
    "\n",
    "# Define the transformation\n",
    "transform = transforms.Compose([\n",
    "    transforms.Resize((dim, dim)), # Resize the image to #32x32\n",
    "    transforms.ToTensor(), # Convert the image to a PyTorch tensor\n",
    "])\n",
    "\n",
    "#dataset = CustomFramesDataset(root_dir=frames_path, transform=transform)\n",
    "dataset = ImageFolder(\n",
    "        pretrain_path,\n",
    "        transform=transform,\n",
    "    )\n",
    "\n",
    "val_dataset = ImageFolder(\n",
    "        val_path,\n",
    "        transform=transform,\n",
    "    ) "
   ]
  },
  {
   "cell_type": "markdown",
   "metadata": {},
   "source": [
    "# model architecture + masking fn"
   ]
  },
  {
   "cell_type": "code",
   "execution_count": 4,
   "metadata": {},
   "outputs": [],
   "source": [
    "## ViT Model + functions\n",
    "class MAE_Encoder(torch.nn.Module):\n",
    "    def __init__(self,\n",
    "                 image_size=dim,\n",
    "                 patch_size=16,\n",
    "                 emb_dim=emb_dims,\n",
    "                 num_layer=encoder_layers,\n",
    "                 num_head=4,\n",
    "                 mask_ratio=mask_ratio,\n",
    "                 ) -> None:\n",
    "        super().__init__()\n",
    "\n",
    "        self.cls_token = torch.nn.Parameter(torch.zeros(1, 1, emb_dim))\n",
    "        self.pos_embedding = torch.nn.Parameter(torch.zeros((image_size // patch_size) ** 2, 1, emb_dim))\n",
    "        self.shuffle = PatchShuffle(mask_ratio)\n",
    "\n",
    "        self.patchify = torch.nn.Conv2d(3, emb_dim, patch_size, patch_size)\n",
    "\n",
    "        self.transformer = torch.nn.Sequential(*[Block(emb_dim, num_head) for _ in range(num_layer)])\n",
    "\n",
    "        self.layer_norm = torch.nn.LayerNorm(emb_dim)\n",
    "\n",
    "        self.init_weight()\n",
    "\n",
    "    def init_weight(self):\n",
    "        trunc_normal_(self.cls_token, std=.02)\n",
    "        trunc_normal_(self.pos_embedding, std=.02)\n",
    "\n",
    "    def forward(self, img):\n",
    "        patches = self.patchify(img)\n",
    "        patches = rearrange(patches, 'b c h w -> (h w) b c')\n",
    "        \n",
    "        # Calculate the number of patches\n",
    "        num_patches = patches.shape[0]\n",
    "        \n",
    "\n",
    "        \n",
    "        patches = patches + self.pos_embedding\n",
    "\n",
    "        patches, forward_indexes, backward_indexes = self.shuffle(patches)\n",
    "\n",
    "        patches = torch.cat([self.cls_token.expand(-1, patches.shape[1], -1), patches], dim=0)\n",
    "        patches = rearrange(patches, 't b c -> b t c')\n",
    "        features = self.layer_norm(self.transformer(patches))\n",
    "        features = rearrange(features, 'b t c -> t b c')\n",
    "\n",
    "        return features, backward_indexes\n",
    "\n",
    "class MAE_Decoder(torch.nn.Module):\n",
    "    def __init__(self,\n",
    "                 image_size=dim,\n",
    "                 patch_size=16,\n",
    "                 emb_dim=192,\n",
    "                 num_layer=4,\n",
    "                 num_head=3,\n",
    "                 ) -> None:\n",
    "        super().__init__()\n",
    "\n",
    "        self.mask_token = torch.nn.Parameter(torch.zeros(1, 1, emb_dim))\n",
    "        self.pos_embedding = torch.nn.Parameter(torch.zeros((image_size // patch_size) ** 2 + 1, 1, emb_dim))\n",
    "\n",
    "        self.transformer = torch.nn.Sequential(*[Block(emb_dim, num_head) for _ in range(num_layer)])\n",
    "\n",
    "        self.head = torch.nn.Linear(emb_dim, 3 * patch_size ** 2)\n",
    "        self.patch2img = Rearrange('(h w) b (c p1 p2) -> b c (h p1) (w p2)', p1=patch_size, p2=patch_size, h=image_size//patch_size)\n",
    "\n",
    "        self.init_weight()\n",
    "\n",
    "    def init_weight(self):\n",
    "        trunc_normal_(self.mask_token, std=.02)\n",
    "        trunc_normal_(self.pos_embedding, std=.02)\n",
    "\n",
    "    def forward(self, features, backward_indexes):\n",
    "        T = features.shape[0]\n",
    "        backward_indexes = torch.cat([torch.zeros(1, backward_indexes.shape[1]).to(backward_indexes), backward_indexes + 1], dim=0)\n",
    "        features = torch.cat([features, self.mask_token.expand(backward_indexes.shape[0] - features.shape[0], features.shape[1], -1)], dim=0)\n",
    "        features = take_indexes(features, backward_indexes)\n",
    "        features = features + self.pos_embedding\n",
    "\n",
    "        features = rearrange(features, 't b c -> b t c')\n",
    "        features = self.transformer(features)\n",
    "        features = rearrange(features, 'b t c -> t b c')\n",
    "        features = features[1:] # remove global feature\n",
    "\n",
    "        patches = self.head(features)\n",
    "        mask = torch.zeros_like(patches)\n",
    "        mask[T-1:] = 1\n",
    "        mask = take_indexes(mask, backward_indexes[1:] - 1)\n",
    "        img = self.patch2img(patches)\n",
    "        mask = self.patch2img(mask)\n",
    "\n",
    "        return img, mask\n",
    "\n",
    "class MAE_ViT(torch.nn.Module):\n",
    "    def __init__(self,\n",
    "                 image_size=dim,\n",
    "                 patch_size=16,\n",
    "                 emb_dim=emb_dims,#192,\n",
    "                 encoder_layer=encoder_layers,#12,\n",
    "                 encoder_head=4,\n",
    "                 decoder_layer=4,\n",
    "                 decoder_head=4,\n",
    "                 mask_ratio=mask_ratio,\n",
    "                 ) -> None:\n",
    "        super().__init__()\n",
    "\n",
    "        self.encoder = MAE_Encoder(image_size, patch_size, emb_dim, encoder_layer, encoder_head, mask_ratio)\n",
    "        self.decoder = MAE_Decoder(image_size, patch_size, emb_dim, decoder_layer, decoder_head)\n",
    "\n",
    "    def forward(self, img):\n",
    "        features, backward_indexes = self.encoder(img)\n",
    "        predicted_img, mask = self.decoder(features,  backward_indexes)\n",
    "        return predicted_img, mask\n",
    "\n",
    "class ViT_Classifier(torch.nn.Module):\n",
    "    def __init__(self, encoder : MAE_Encoder, num_classes=4) -> None:\n",
    "        super().__init__()\n",
    "        self.cls_token = encoder.cls_token\n",
    "        self.pos_embedding = encoder.pos_embedding\n",
    "        self.patchify = encoder.patchify\n",
    "        self.transformer = encoder.transformer\n",
    "        self.layer_norm = encoder.layer_norm\n",
    "        self.head = torch.nn.Linear(self.pos_embedding.shape[-1], num_classes)\n",
    "\n",
    "    def forward(self, img):\n",
    "        patches = self.patchify(img)\n",
    "        patches = rearrange(patches, 'b c h w -> (h w) b c')\n",
    "        patches = patches + self.pos_embedding\n",
    "        patches = torch.cat([self.cls_token.expand(-1, patches.shape[1], -1), patches], dim=0)\n",
    "        patches = rearrange(patches, 't b c -> b t c')\n",
    "        features = self.layer_norm(self.transformer(patches))\n",
    "        features = rearrange(features, 'b t c -> t b c')\n",
    "        logits = self.head(features[0])\n",
    "        return logits\n",
    "    \n",
    "\n",
    "class PatchShuffle(torch.nn.Module):\n",
    "    def __init__(self, ratio) -> None:\n",
    "        super().__init__()\n",
    "        self.ratio = ratio\n",
    "\n",
    "    def forward(self, patches : torch.Tensor):\n",
    "        T, B, C = patches.shape\n",
    "        remain_T = int(T * (1 - self.ratio))\n",
    "\n",
    "        indexes = [random_indexes(T) for _ in range(B)]\n",
    "        forward_indexes = torch.as_tensor(np.stack([i[0] for i in indexes], axis=-1), dtype=torch.long).to(patches.device)\n",
    "        backward_indexes = torch.as_tensor(np.stack([i[1] for i in indexes], axis=-1), dtype=torch.long).to(patches.device)\n",
    "\n",
    "        patches = take_indexes(patches, forward_indexes)\n",
    "        patches = patches[:remain_T]\n",
    "\n",
    "        return patches, forward_indexes, backward_indexes\n",
    "    \n",
    "def random_indexes(size : int):\n",
    "    forward_indexes = np.arange(size)\n",
    "    np.random.shuffle(forward_indexes)\n",
    "    backward_indexes = np.argsort(forward_indexes)\n",
    "    return forward_indexes, backward_indexes\n",
    "\n",
    "def take_indexes(sequences, indexes):\n",
    "    return torch.gather(sequences, 0, repeat(indexes, 't b -> t b c', c=sequences.shape[-1]))\n",
    "\n",
    "def mask_image(image, mask_size):\n",
    "    mask = torch.ones_like(image)\n",
    "    mask[:, :mask_size, :mask_size] = 0\n",
    "    return image * mask"
   ]
  },
  {
   "cell_type": "markdown",
   "metadata": {},
   "source": [
    "## load  pre-train model if it exists"
   ]
  },
  {
   "cell_type": "code",
   "execution_count": 5,
   "metadata": {},
   "outputs": [],
   "source": [
    "def load_model():\n",
    "    import torch\n",
    "    import os\n",
    "\n",
    "    if os.path.exists(load_prev_model_path):\n",
    "        # Load the checkpoint\n",
    "        checkpoint = torch.load(load_prev_model_path)\n",
    "        \n",
    "        # Load the model state dict\n",
    "        model = MAE_ViT().to(device)\n",
    "        model.load_state_dict(checkpoint['model_state_dict'])\n",
    "        \n",
    "        # Load the optimizer state dict\n",
    "        if custom_opt == \"prodigy\":\n",
    "            optimizer = Prodigy(model.parameters())\n",
    "        elif custom_opt == \"adamW\":\n",
    "            optimizer = AdamW(model.parameters(), lr=learn_rate)\n",
    "        optimizer.load_state_dict(checkpoint['optimizer_state_dict'])\n",
    "        \n",
    "        # Load the loss\n",
    "        loss = checkpoint['loss']\n",
    "        \n",
    "        print(f\"Model loaded with loss: {loss}\")\n",
    "    else:\n",
    "        model = MAE_ViT().to(device)\n",
    "        print(\"Model checkpoint not found. Init model from scratch.\")\n",
    "    return model, optimizer, loss\n",
    "\n",
    "if load_prev_model:\n",
    "    model, optimizer, loss = load_model()\n",
    "else:\n",
    "    model = MAE_ViT().to(device)\n",
    "    if custom_opt == \"adamW\":\n",
    "        learning_rate = learn_rate # Example learning rate\n",
    "        optimizer = AdamW(model.parameters(), lr=learning_rate)\n",
    "    elif custom_opt == \"prodigy\":\n",
    "        optimizer = Prodigy(model.parameters())\n",
    "    #loss er custom mse loss"
   ]
  },
  {
   "cell_type": "markdown",
   "metadata": {},
   "source": [
    "# Num_params in MAE model"
   ]
  },
  {
   "cell_type": "code",
   "execution_count": 6,
   "metadata": {},
   "outputs": [],
   "source": [
    "if get_num_params or plot_16_images:\n",
    "    total_params = sum(p.numel() for p in model.parameters())\n",
    "    print(f\"Total number of parameters: {total_params:,.0f}\")"
   ]
  },
  {
   "cell_type": "markdown",
   "metadata": {},
   "source": [
    "# Pre-Train model:"
   ]
  },
  {
   "cell_type": "code",
   "execution_count": 7,
   "metadata": {},
   "outputs": [
    {
     "name": "stderr",
     "output_type": "stream",
     "text": [
      "  0%|          | 0/2884 [00:00<?, ?it/s]c:\\Users\\alx\\miniconda3.2\\envs\\BA\\Lib\\site-packages\\timm\\models\\vision_transformer.py:91: UserWarning: 1Torch was not compiled with flash attention. (Triggered internally at ..\\aten\\src\\ATen\\native\\transformers\\cuda\\sdp_utils.cpp:263.)\n",
      "  x = F.scaled_dot_product_attention(\n",
      "100%|██████████| 2884/2884 [27:00<00:00,  1.78it/s, step loss=0.0048] \n"
     ]
    },
    {
     "name": "stdout",
     "output_type": "stream",
     "text": [
      "####TRAIN#### epoch 0/33, avg train loss: 0.0182\n"
     ]
    },
    {
     "name": "stderr",
     "output_type": "stream",
     "text": [
      "100%|██████████| 475/475 [02:12<00:00,  3.59it/s]\n"
     ]
    },
    {
     "name": "stdout",
     "output_type": "stream",
     "text": [
      "###IMPROVED VAL#### Save w/avg loss 0.0182 at mdl_ckpt\\mae_m-0.5\\mae_best.pth\n"
     ]
    },
    {
     "name": "stderr",
     "output_type": "stream",
     "text": [
      "100%|██████████| 2884/2884 [28:06<00:00,  1.71it/s, step loss=0.0025] \n"
     ]
    },
    {
     "name": "stdout",
     "output_type": "stream",
     "text": [
      "####TRAIN#### epoch 1/33, avg train loss: 0.0035\n"
     ]
    },
    {
     "name": "stderr",
     "output_type": "stream",
     "text": [
      "100%|██████████| 475/475 [02:24<00:00,  3.28it/s]\n"
     ]
    },
    {
     "name": "stdout",
     "output_type": "stream",
     "text": [
      "###IMPROVED VAL#### Save w/avg loss 0.0035 at mdl_ckpt\\mae_m-0.5\\mae_best.pth\n"
     ]
    },
    {
     "name": "stderr",
     "output_type": "stream",
     "text": [
      "100%|██████████| 2884/2884 [28:05<00:00,  1.71it/s, step loss=0.00253]\n"
     ]
    },
    {
     "name": "stdout",
     "output_type": "stream",
     "text": [
      "####TRAIN#### epoch 2/33, avg train loss: 0.0027\n"
     ]
    },
    {
     "name": "stderr",
     "output_type": "stream",
     "text": [
      "100%|██████████| 475/475 [02:19<00:00,  3.40it/s]\n"
     ]
    },
    {
     "name": "stdout",
     "output_type": "stream",
     "text": [
      "###IMPROVED VAL#### Save w/avg loss 0.0027 at mdl_ckpt\\mae_m-0.5\\mae_best.pth\n"
     ]
    },
    {
     "name": "stderr",
     "output_type": "stream",
     "text": [
      "100%|██████████| 2884/2884 [27:20<00:00,  1.76it/s, step loss=0.00334]\n"
     ]
    },
    {
     "name": "stdout",
     "output_type": "stream",
     "text": [
      "####TRAIN#### epoch 3/33, avg train loss: 0.0112\n"
     ]
    },
    {
     "name": "stderr",
     "output_type": "stream",
     "text": [
      "100%|██████████| 475/475 [02:11<00:00,  3.61it/s]\n",
      "100%|██████████| 2884/2884 [27:53<00:00,  1.72it/s, step loss=0.00273]\n"
     ]
    },
    {
     "name": "stdout",
     "output_type": "stream",
     "text": [
      "####TRAIN#### epoch 4/33, avg train loss: 0.0028\n"
     ]
    },
    {
     "name": "stderr",
     "output_type": "stream",
     "text": [
      "100%|██████████| 475/475 [02:25<00:00,  3.27it/s]\n",
      "100%|██████████| 2884/2884 [28:13<00:00,  1.70it/s, step loss=0.00213]\n"
     ]
    },
    {
     "name": "stdout",
     "output_type": "stream",
     "text": [
      "####TRAIN#### epoch 5/33, avg train loss: 0.0024\n"
     ]
    },
    {
     "name": "stderr",
     "output_type": "stream",
     "text": [
      "100%|██████████| 475/475 [02:24<00:00,  3.29it/s]\n",
      "100%|██████████| 2884/2884 [28:08<00:00,  1.71it/s, step loss=0.0148] \n"
     ]
    },
    {
     "name": "stdout",
     "output_type": "stream",
     "text": [
      "####TRAIN#### epoch 6/33, avg train loss: 0.0074\n"
     ]
    },
    {
     "name": "stderr",
     "output_type": "stream",
     "text": [
      "100%|██████████| 475/475 [02:21<00:00,  3.35it/s]\n",
      "100%|██████████| 2884/2884 [27:13<00:00,  1.77it/s, step loss=0.00253]\n"
     ]
    },
    {
     "name": "stdout",
     "output_type": "stream",
     "text": [
      "####TRAIN#### epoch 7/33, avg train loss: 0.0052\n"
     ]
    },
    {
     "name": "stderr",
     "output_type": "stream",
     "text": [
      "100%|██████████| 475/475 [02:11<00:00,  3.62it/s]\n",
      "100%|██████████| 2884/2884 [27:35<00:00,  1.74it/s, step loss=0.00289]\n"
     ]
    },
    {
     "name": "stdout",
     "output_type": "stream",
     "text": [
      "####TRAIN#### epoch 8/33, avg train loss: 0.0026\n"
     ]
    },
    {
     "name": "stderr",
     "output_type": "stream",
     "text": [
      "100%|██████████| 475/475 [02:11<00:00,  3.62it/s]\n",
      "100%|██████████| 2884/2884 [27:36<00:00,  1.74it/s, step loss=0.00217]\n"
     ]
    },
    {
     "name": "stdout",
     "output_type": "stream",
     "text": [
      "####TRAIN#### epoch 9/33, avg train loss: 0.0023\n"
     ]
    },
    {
     "name": "stderr",
     "output_type": "stream",
     "text": [
      "100%|██████████| 475/475 [02:12<00:00,  3.59it/s]\n",
      "100%|██████████| 2884/2884 [27:41<00:00,  1.74it/s, step loss=0.00364]\n"
     ]
    },
    {
     "name": "stdout",
     "output_type": "stream",
     "text": [
      "####TRAIN#### epoch 10/33, avg train loss: 0.0064\n"
     ]
    },
    {
     "name": "stderr",
     "output_type": "stream",
     "text": [
      "100%|██████████| 475/475 [02:13<00:00,  3.55it/s]\n",
      "100%|██████████| 2884/2884 [44:18<00:00,  1.08it/s, step loss=0.00176]\n"
     ]
    },
    {
     "name": "stdout",
     "output_type": "stream",
     "text": [
      "####TRAIN#### epoch 11/33, avg train loss: 0.0027\n"
     ]
    },
    {
     "name": "stderr",
     "output_type": "stream",
     "text": [
      "100%|██████████| 475/475 [04:44<00:00,  1.67it/s]\n"
     ]
    },
    {
     "name": "stdout",
     "output_type": "stream",
     "text": [
      "###IMPROVED VAL#### Save w/avg loss 0.0027 at mdl_ckpt\\mae_m-0.5\\mae_best.pth\n"
     ]
    },
    {
     "name": "stderr",
     "output_type": "stream",
     "text": [
      "100%|██████████| 2884/2884 [56:30<00:00,  1.18s/it, step loss=0.00179]\n"
     ]
    },
    {
     "name": "stdout",
     "output_type": "stream",
     "text": [
      "####TRAIN#### epoch 12/33, avg train loss: 0.0022\n"
     ]
    },
    {
     "name": "stderr",
     "output_type": "stream",
     "text": [
      "100%|██████████| 475/475 [04:42<00:00,  1.68it/s]\n"
     ]
    },
    {
     "name": "stdout",
     "output_type": "stream",
     "text": [
      "###IMPROVED VAL#### Save w/avg loss 0.0022 at mdl_ckpt\\mae_m-0.5\\mae_best.pth\n"
     ]
    },
    {
     "name": "stderr",
     "output_type": "stream",
     "text": [
      "100%|██████████| 2884/2884 [56:29<00:00,  1.18s/it, step loss=0.00195]\n"
     ]
    },
    {
     "name": "stdout",
     "output_type": "stream",
     "text": [
      "####TRAIN#### epoch 13/33, avg train loss: 0.0020\n"
     ]
    },
    {
     "name": "stderr",
     "output_type": "stream",
     "text": [
      "100%|██████████| 475/475 [04:45<00:00,  1.66it/s]\n"
     ]
    },
    {
     "name": "stdout",
     "output_type": "stream",
     "text": [
      "###IMPROVED VAL#### Save w/avg loss 0.0020 at mdl_ckpt\\mae_m-0.5\\mae_best.pth\n"
     ]
    },
    {
     "name": "stderr",
     "output_type": "stream",
     "text": [
      "100%|██████████| 2884/2884 [56:37<00:00,  1.18s/it, step loss=0.00183]\n"
     ]
    },
    {
     "name": "stdout",
     "output_type": "stream",
     "text": [
      "####TRAIN#### epoch 14/33, avg train loss: 0.0035\n"
     ]
    },
    {
     "name": "stderr",
     "output_type": "stream",
     "text": [
      "100%|██████████| 475/475 [04:44<00:00,  1.67it/s]\n"
     ]
    },
    {
     "name": "stdout",
     "output_type": "stream",
     "text": [
      "###IMPROVED VAL#### Save w/avg loss 0.0035 at mdl_ckpt\\mae_m-0.5\\mae_best.pth\n"
     ]
    },
    {
     "name": "stderr",
     "output_type": "stream",
     "text": [
      "100%|██████████| 2884/2884 [56:31<00:00,  1.18s/it, step loss=0.00184]\n"
     ]
    },
    {
     "name": "stdout",
     "output_type": "stream",
     "text": [
      "####TRAIN#### epoch 15/33, avg train loss: 0.0019\n"
     ]
    },
    {
     "name": "stderr",
     "output_type": "stream",
     "text": [
      "100%|██████████| 475/475 [04:41<00:00,  1.68it/s]\n",
      "100%|██████████| 2884/2884 [56:27<00:00,  1.17s/it, step loss=0.00154]\n"
     ]
    },
    {
     "name": "stdout",
     "output_type": "stream",
     "text": [
      "####TRAIN#### epoch 16/33, avg train loss: 0.0019\n"
     ]
    },
    {
     "name": "stderr",
     "output_type": "stream",
     "text": [
      "100%|██████████| 475/475 [04:43<00:00,  1.67it/s]\n"
     ]
    },
    {
     "name": "stdout",
     "output_type": "stream",
     "text": [
      "###IMPROVED VAL#### Save w/avg loss 0.0019 at mdl_ckpt\\mae_m-0.5\\mae_best.pth\n"
     ]
    },
    {
     "name": "stderr",
     "output_type": "stream",
     "text": [
      "100%|██████████| 2884/2884 [56:18<00:00,  1.17s/it, step loss=0.00179]\n"
     ]
    },
    {
     "name": "stdout",
     "output_type": "stream",
     "text": [
      "####TRAIN#### epoch 17/33, avg train loss: 0.0018\n"
     ]
    },
    {
     "name": "stderr",
     "output_type": "stream",
     "text": [
      "100%|██████████| 475/475 [03:50<00:00,  2.06it/s]\n",
      "100%|██████████| 2884/2884 [28:19<00:00,  1.70it/s, step loss=0.00173]\n"
     ]
    },
    {
     "name": "stdout",
     "output_type": "stream",
     "text": [
      "####TRAIN#### epoch 18/33, avg train loss: 0.0022\n"
     ]
    },
    {
     "name": "stderr",
     "output_type": "stream",
     "text": [
      "100%|██████████| 475/475 [02:18<00:00,  3.43it/s]\n",
      "100%|██████████| 2884/2884 [27:19<00:00,  1.76it/s, step loss=0.00199]\n"
     ]
    },
    {
     "name": "stdout",
     "output_type": "stream",
     "text": [
      "####TRAIN#### epoch 19/33, avg train loss: 0.0017\n"
     ]
    },
    {
     "name": "stderr",
     "output_type": "stream",
     "text": [
      "100%|██████████| 475/475 [02:13<00:00,  3.56it/s]\n",
      "100%|██████████| 2884/2884 [27:30<00:00,  1.75it/s, step loss=0.00168]\n"
     ]
    },
    {
     "name": "stdout",
     "output_type": "stream",
     "text": [
      "####TRAIN#### epoch 20/33, avg train loss: 0.0017\n"
     ]
    },
    {
     "name": "stderr",
     "output_type": "stream",
     "text": [
      "100%|██████████| 475/475 [02:12<00:00,  3.58it/s]\n"
     ]
    },
    {
     "name": "stdout",
     "output_type": "stream",
     "text": [
      "###IMPROVED VAL#### Save w/avg loss 0.0017 at mdl_ckpt\\mae_m-0.5\\mae_best.pth\n"
     ]
    },
    {
     "name": "stderr",
     "output_type": "stream",
     "text": [
      "100%|██████████| 2884/2884 [27:27<00:00,  1.75it/s, step loss=0.00166]\n"
     ]
    },
    {
     "name": "stdout",
     "output_type": "stream",
     "text": [
      "####TRAIN#### epoch 21/33, avg train loss: 0.0016\n"
     ]
    },
    {
     "name": "stderr",
     "output_type": "stream",
     "text": [
      "100%|██████████| 475/475 [02:13<00:00,  3.56it/s]\n",
      "100%|██████████| 2884/2884 [27:30<00:00,  1.75it/s, step loss=0.00186]\n"
     ]
    },
    {
     "name": "stdout",
     "output_type": "stream",
     "text": [
      "####TRAIN#### epoch 22/33, avg train loss: 0.0016\n"
     ]
    },
    {
     "name": "stderr",
     "output_type": "stream",
     "text": [
      "100%|██████████| 475/475 [02:13<00:00,  3.56it/s]\n",
      "100%|██████████| 2884/2884 [28:14<00:00,  1.70it/s, step loss=0.00161]\n"
     ]
    },
    {
     "name": "stdout",
     "output_type": "stream",
     "text": [
      "####TRAIN#### epoch 23/33, avg train loss: 0.0016\n"
     ]
    },
    {
     "name": "stderr",
     "output_type": "stream",
     "text": [
      "100%|██████████| 475/475 [02:26<00:00,  3.25it/s]\n"
     ]
    },
    {
     "name": "stdout",
     "output_type": "stream",
     "text": [
      "###IMPROVED VAL#### Save w/avg loss 0.0016 at mdl_ckpt\\mae_m-0.5\\mae_best.pth\n"
     ]
    },
    {
     "name": "stderr",
     "output_type": "stream",
     "text": [
      "100%|██████████| 2884/2884 [28:19<00:00,  1.70it/s, step loss=0.00153]\n"
     ]
    },
    {
     "name": "stdout",
     "output_type": "stream",
     "text": [
      "####TRAIN#### epoch 24/33, avg train loss: 0.0016\n"
     ]
    },
    {
     "name": "stderr",
     "output_type": "stream",
     "text": [
      "100%|██████████| 475/475 [02:25<00:00,  3.26it/s]\n"
     ]
    },
    {
     "name": "stdout",
     "output_type": "stream",
     "text": [
      "###IMPROVED VAL#### Save w/avg loss 0.0016 at mdl_ckpt\\mae_m-0.5\\mae_best.pth\n"
     ]
    },
    {
     "name": "stderr",
     "output_type": "stream",
     "text": [
      "100%|██████████| 2884/2884 [28:23<00:00,  1.69it/s, step loss=0.00132]\n"
     ]
    },
    {
     "name": "stdout",
     "output_type": "stream",
     "text": [
      "####TRAIN#### epoch 25/33, avg train loss: 0.0015\n"
     ]
    },
    {
     "name": "stderr",
     "output_type": "stream",
     "text": [
      "100%|██████████| 475/475 [02:25<00:00,  3.27it/s]\n",
      "100%|██████████| 2884/2884 [27:27<00:00,  1.75it/s, step loss=0.00172]\n"
     ]
    },
    {
     "name": "stdout",
     "output_type": "stream",
     "text": [
      "####TRAIN#### epoch 26/33, avg train loss: 0.0015\n"
     ]
    },
    {
     "name": "stderr",
     "output_type": "stream",
     "text": [
      "100%|██████████| 475/475 [02:13<00:00,  3.55it/s]\n",
      "100%|██████████| 2884/2884 [27:39<00:00,  1.74it/s, step loss=0.00165]\n"
     ]
    },
    {
     "name": "stdout",
     "output_type": "stream",
     "text": [
      "####TRAIN#### epoch 27/33, avg train loss: 0.0015\n"
     ]
    },
    {
     "name": "stderr",
     "output_type": "stream",
     "text": [
      "100%|██████████| 475/475 [02:14<00:00,  3.54it/s]\n",
      "100%|██████████| 2884/2884 [27:43<00:00,  1.73it/s, step loss=0.00129]\n"
     ]
    },
    {
     "name": "stdout",
     "output_type": "stream",
     "text": [
      "####TRAIN#### epoch 28/33, avg train loss: 0.0015\n"
     ]
    },
    {
     "name": "stderr",
     "output_type": "stream",
     "text": [
      "100%|██████████| 475/475 [02:14<00:00,  3.54it/s]\n",
      "100%|██████████| 2884/2884 [27:46<00:00,  1.73it/s, step loss=0.0013] \n"
     ]
    },
    {
     "name": "stdout",
     "output_type": "stream",
     "text": [
      "####TRAIN#### epoch 29/33, avg train loss: 0.0015\n"
     ]
    },
    {
     "name": "stderr",
     "output_type": "stream",
     "text": [
      "100%|██████████| 475/475 [02:13<00:00,  3.55it/s]\n",
      "100%|██████████| 2884/2884 [27:59<00:00,  1.72it/s, step loss=0.0014] \n"
     ]
    },
    {
     "name": "stdout",
     "output_type": "stream",
     "text": [
      "####TRAIN#### epoch 30/33, avg train loss: 0.0015\n"
     ]
    },
    {
     "name": "stderr",
     "output_type": "stream",
     "text": [
      "100%|██████████| 475/475 [02:25<00:00,  3.27it/s]\n",
      "100%|██████████| 2884/2884 [28:18<00:00,  1.70it/s, step loss=0.00108]\n"
     ]
    },
    {
     "name": "stdout",
     "output_type": "stream",
     "text": [
      "####TRAIN#### epoch 31/33, avg train loss: 0.0015\n"
     ]
    },
    {
     "name": "stderr",
     "output_type": "stream",
     "text": [
      "100%|██████████| 475/475 [02:25<00:00,  3.27it/s]\n",
      "100%|██████████| 2884/2884 [28:15<00:00,  1.70it/s, step loss=0.00139]\n"
     ]
    },
    {
     "name": "stdout",
     "output_type": "stream",
     "text": [
      "####TRAIN#### epoch 32/33, avg train loss: 0.0015\n"
     ]
    },
    {
     "name": "stderr",
     "output_type": "stream",
     "text": [
      "100%|██████████| 475/475 [02:21<00:00,  3.35it/s]\n"
     ]
    }
   ],
   "source": [
    "from torchsampler import ImbalancedDatasetSampler\n",
    "dataloader = DataLoader(dataset, batch_size=MAE_batch_size, sampler=ImbalancedDatasetSampler(dataset)) #sampler=cycle_sampler\n",
    "val_loader = DataLoader(val_dataset, batch_size=MAE_batch_size, sampler=ImbalancedDatasetSampler(val_dataset))\n",
    "   \n",
    "if training:    #Tensorboard writer\n",
    "    \n",
    "    import random\n",
    "    from datetime import datetime\n",
    "    now = datetime.now()\n",
    "    # Format the datetime string to exclude the year\n",
    "    formatted_datetime = now.strftime(\"%m-%d_%H-%M\")\n",
    "    # Use the formatted datetime in the path\n",
    "    writer = SummaryWriter(os.path.join(\"logs\", \"mae\", f\"{formatted_datetime}_{run_name}\"))\n",
    "\n",
    "    #criterion = torch.nn.MSELoss() #pas\n",
    "    val_iterator = iter(val_loader)\n",
    "\n",
    "    best_val_loss = float('inf')\n",
    "    step_count = 0\n",
    "    for epoch in range(num_epochs):\n",
    "        model.train()\n",
    "        losses = []\n",
    "        pbar = tqdm(iter(dataloader))\n",
    "        for img, label in pbar:\n",
    "            step_count += 1\n",
    "            img = img.to(device)\n",
    "            predicted_img, mask = model(img)\n",
    "            loss = (\n",
    "                    torch.mean((predicted_img - img) ** 2 * mask) / mask_ratio\n",
    "                )\n",
    "            loss.backward()\n",
    "            optimizer.step()\n",
    "            optimizer.zero_grad()\n",
    "            losses.append(loss.item())\n",
    "\n",
    "            pbar.set_postfix({'step loss': loss.item()}, refresh=False)\n",
    "            writer.add_scalar(\"mae/step_train_loss\", loss.item(), global_step=step_count)\n",
    "            # wandb.log({\"Train Loss step\": loss})\n",
    "\n",
    "            if break_after_num_steps > 0: #set to -1 to disable early breaking\n",
    "                if step_count >= break_after_num_steps: #Save and quit\n",
    "                    # torch.save({\n",
    "                    #             'model_state_dict': model.state_dict(),\n",
    "                    #             'optimizer_state_dict': optimizer.state_dict(),\n",
    "                    #             'loss': loss.item(),\n",
    "                    #             }, './models/mae_checkpoint_break.pth')\n",
    "                    break\n",
    "        \n",
    "        #For every epoch:\n",
    "        avg_loss = sum(losses) / len(losses)\n",
    "        writer.add_scalar(\"mae/epoch_train_loss\", avg_loss, global_step=step_count)\n",
    "        print(f\"####TRAIN#### epoch {epoch}/{num_epochs}, avg train loss: {avg_loss:.4f}\")\n",
    "        # wandb.log({\"Train Loss epoch avg\": avg_loss})\n",
    "\n",
    "        \"\"\" visualize the first 16 predicted images on val dataset\"\"\"\n",
    "        model.eval()\n",
    "        val_losses = []\n",
    "        val_bar = tqdm(iter(val_loader))\n",
    "        with torch.no_grad():\n",
    "            for img, label in val_bar:\n",
    "                img = img.to(device)\n",
    "                predicted_img, mask = model(img)\n",
    "                val_loss = (\n",
    "                        torch.mean((predicted_img - img) ** 2 * mask) / mask_ratio\n",
    "                    )\n",
    "                val_losses.append(val_loss.item())\n",
    "                #break #vi vil gerne køre alt validatio igennem\n",
    "            \n",
    "            avg_val_loss = torch.mean(torch.tensor(val_losses))\n",
    "            writer.add_scalar(\"mae/epoch_val_loss\", avg_val_loss.item(), global_step=step_count)\n",
    "\n",
    "            \n",
    "\n",
    "        ### Saving\n",
    "        if val_loss < best_val_loss:\n",
    "            improved = True\n",
    "            # Update the best loss\n",
    "            best_val_loss = val_loss\n",
    "            \n",
    "            # Construct the filename with the current loss included\n",
    "            filename = f\"mae_best.pth\"\n",
    "        else:\n",
    "            improved = False\n",
    "            filename = \"mae_last.pth\"\n",
    "        # Construct the full path using os.path.join\n",
    "        base_path = f\"C:\\\\Users\\\\alx\\\\Downloads\\\\mdl_ckpt\\\\mae_m-{mask_ratio}\"\n",
    "        full_path = os.path.join(base_path, filename)\n",
    "        shortened_path = os.path.join(f\"mdl_ckpt\\\\mae_m-{mask_ratio}\", filename)\n",
    "        \n",
    "        # Save the model\n",
    "        torch.save({\n",
    "            'model_state_dict': model.state_dict(),\n",
    "            'optimizer_state_dict': optimizer.state_dict(),\n",
    "            'loss': loss.item(),\n",
    "        }, full_path)\n",
    "        if improved:\n",
    "            print(f\"###IMPROVED VAL#### Save w/avg loss {avg_loss:.4f} at {shortened_path}\")\n",
    "        \n",
    "        improved = False\n"
   ]
  },
  {
   "cell_type": "markdown",
   "metadata": {},
   "source": [
    "# Eval 16 imgs"
   ]
  },
  {
   "cell_type": "code",
   "execution_count": 8,
   "metadata": {},
   "outputs": [],
   "source": [
    "if plot_16_images:\n",
    "    def plot_16_images():\n",
    "        import matplotlib.pyplot as plt\n",
    "        import random\n",
    "        num_samples = 16\n",
    "        indices = random.sample(range(len(val_dataset)), num_samples)\n",
    "        val_samples = [val_dataset[i][0] for i in indices]\n",
    "        val_img = torch.stack(val_samples)\n",
    "        #val_img = torch.stack([val_dataset[i][0] for i in range(21)])\n",
    "        \n",
    "\n",
    "        val_img = val_img.to(device)\n",
    "        predicted_val_img, mask = model(val_img)\n",
    "        predicted_val_img = predicted_val_img * mask + val_img * (1 - mask)\n",
    "        img = torch.cat([val_img * (1 - mask), predicted_val_img, val_img], dim=0)\n",
    "        img = rearrange(img, \"(v h1 w1) c h w -> (h1 h) (w1 v w) c\", w1=2, v=3)\n",
    "        img_np = img.cpu().detach().numpy()\n",
    "        min_val, max_val = np.min(img_np), np.max(img_np)\n",
    "        range_val = max_val - min_val\n",
    "\n",
    "        # Normalize the data\n",
    "        normalized_img_np = (img_np - min_val) / range_val\n",
    "\n",
    "        plt.figure(figsize=(10, 10))\n",
    "        plt.axis('off')\n",
    "        plt.title(f'MAE: \\n 16 random val imgs. MAE pretrained for: {num_epochs}eps, masking: {mask_ratio} \\n MAE model has {total_params:,.0f} num params')\n",
    "        plt.imshow(normalized_img_np)\n",
    "        plt.savefig(f\"plots/mae_image_16x_m-{mask_ratio}_params-{total_params:,.0f}.png\")\n",
    "        plt.show()"
   ]
  },
  {
   "cell_type": "markdown",
   "metadata": {},
   "source": [
    "# T-SNE current results"
   ]
  },
  {
   "cell_type": "markdown",
   "metadata": {},
   "source": [
    "#### DO the work one time:"
   ]
  },
  {
   "cell_type": "code",
   "execution_count": 9,
   "metadata": {},
   "outputs": [],
   "source": [
    "def tsne_embeddings(input_path):\n",
    "    from torchvision import transforms\n",
    "    from PIL import Image\n",
    "    import numpy as np\n",
    "\n",
    "    import torch\n",
    "\n",
    "    #model, optimizer, loss = load_model() # we do this in another cell\n",
    "    # Extract the encoder\n",
    "    encoder = model.encoder\n",
    "    encoder.eval() # Set the model to evaluation mode\n",
    "\n",
    "    import os\n",
    "\n",
    "    # Specify the directory containing your images\n",
    "    image_dir = input_path\n",
    "    all_files = os.listdir(image_dir)\n",
    "    # Filter out image files (assuming .jpg and .png extensions)\n",
    "    image_files = [file for file in all_files if file.endswith(('.jpg', '.png'))]\n",
    "\n",
    "    # Construct the full paths to the image files\n",
    "    image_paths = [os.path.join(image_dir, file) for file in image_files]\n",
    "    # Load and preprocess images\n",
    "    transform = transforms.Compose([\n",
    "        transforms.Resize((224, 224)), # Adjust size as needed\n",
    "        transforms.ToTensor(),\n",
    "    ])\n",
    "\n",
    "\n",
    "    from tqdm import tqdm # Import tqdm\n",
    "\n",
    "    # Extract features\n",
    "    features = []\n",
    "    for path in tqdm(image_paths, desc=\"Processing images\"): # Wrap image_paths with tqdm\n",
    "        img = Image.open(path)\n",
    "        img = transform(img).unsqueeze(0) # Add batch dimension\n",
    "        with torch.no_grad():\n",
    "            _, feature = encoder(img)\n",
    "        features.append(feature.squeeze().numpy())\n",
    "\n",
    "    # Stack features into a 2D array\n",
    "    features_array = np.vstack(features)\n",
    "\n",
    "    from sklearn.manifold import TSNE\n",
    "\n",
    "    # Apply t-SNE\n",
    "    tsne = TSNE(n_components=2, random_state=0)\n",
    "    embedding = tsne.fit_transform(features_array)\n",
    "\n",
    "    import matplotlib.pyplot as plt\n",
    "    return embedding\n",
    "\n",
    "if tsne_plotting:\n",
    "    if tsne_target == \"training images\":\n",
    "        embedding = tsne_embeddings(pretrain_path_imgs)\n",
    "    elif tsne_target == \"validation images\":\n",
    "        embedding = tsne_embeddings(val_path_imgs)\n",
    "    else:\n",
    "        print(\"Invalid target for t-SNE plotting. Please choose either 'training images' or 'validation images'.\")"
   ]
  },
  {
   "cell_type": "markdown",
   "metadata": {},
   "source": [
    "### Just tsne plot:"
   ]
  },
  {
   "cell_type": "code",
   "execution_count": 10,
   "metadata": {},
   "outputs": [],
   "source": [
    "if False:# Plot the 2D embedding\n",
    "    plt.figure(figsize=(10, 10))\n",
    "    plt.scatter(embedding[:, 0], embedding[:, 1])\n",
    "    plt.title('t-SNE visualization of image embeddings')\n",
    "    plt.show()"
   ]
  },
  {
   "cell_type": "markdown",
   "metadata": {},
   "source": [
    "### tsne with images on top"
   ]
  },
  {
   "cell_type": "code",
   "execution_count": 11,
   "metadata": {},
   "outputs": [],
   "source": [
    "def plot_tsne(input_path, which_type):\n",
    "    import os\n",
    "    import matplotlib.pyplot as plt\n",
    "    from matplotlib.offsetbox import OffsetImage, AnnotationBbox\n",
    "\n",
    "    def getImage(path, zoom=.025):\n",
    "        return OffsetImage(plt.imread(path), zoom=zoom)\n",
    "\n",
    "    # Specify the directory containing the images\n",
    "    image_directory = input_path\n",
    "\n",
    "    # List all files in the directory\n",
    "    files = os.listdir(image_directory)\n",
    "\n",
    "    # Filter out the image files (assuming .jpg and .png extensions)\n",
    "    image_files = [os.path.join(image_directory, f) for f in files if f.endswith(('.jpg', '.png'))]\n",
    "\n",
    "    # Create a figure and axes\n",
    "    fig, ax = plt.subplots()\n",
    "\n",
    "    # Assuming 'embedding' is defined elsewhere in your code\n",
    "    for x0, y0, path in zip(embedding[:, 0], embedding[:, 1], image_files):\n",
    "        ab = AnnotationBbox(getImage(path), (x0, y0), frameon=False)\n",
    "        ax.add_artist(ab)\n",
    "\n",
    "    # Set the limits of the plot to ensure all images are visible\n",
    "    # You might need to adjust these limits based on the range of your embedding coordinates\n",
    "    ax.set_xlim(embedding[:, 0].min(), embedding[:, 0].max())\n",
    "    ax.set_ylim(embedding[:, 1].min(), embedding[:, 1].max())\n",
    "    from datetime import datetime\n",
    "    now = datetime.now()\n",
    "    timestamp = now.strftime(\"%y%m%d_%H%M\")\n",
    "    \n",
    "    title = f\" T-sne plot of feature embeddings of {which_type} images. Mask Ratio: {mask_ratio}\"\n",
    "\n",
    "    # Set the title of the plot\n",
    "    ax.set_title(title)\n",
    "\n",
    "    # Save the figure with the datetime stamp in the filename\n",
    "    plt.savefig(f'./plots/tsne_time-{timestamp}_mask-{mask_ratio}_type-{which_type}.png')\n",
    "    plt.show()\n",
    "\n",
    "if tsne_plotting:\n",
    "    if tsne_target == \"training images\":\n",
    "        plot_tsne(pretrain_path_imgs, 'training')\n",
    "    elif tsne_target == \"validation images\":\n",
    "        plot_tsne(val_path_imgs,'validation')"
   ]
  },
  {
   "cell_type": "markdown",
   "metadata": {},
   "source": [
    "# Fine tune model MES score 1x "
   ]
  },
  {
   "cell_type": "code",
   "execution_count": 12,
   "metadata": {},
   "outputs": [],
   "source": [
    "import pandas as pd\n",
    "from sklearn.model_selection import train_test_split\n",
    "from torchsampler import ImbalancedDatasetSampler\n",
    "encoder = model.encoder\n",
    "classifier = ViT_Classifier(encoder, num_classes=4)\n",
    "classifier.to(device)\n",
    "criterion = torch.nn.CrossEntropyLoss()\n",
    "\n",
    "#initialize new optimizers that arent biased from MAE training\n",
    "if custom_opt == \"prodigy\":\n",
    "    optimizer = Prodigy(classifier.parameters())\n",
    "elif custom_opt == \"adamW\":\n",
    "    optimizer = AdamW(classifier.parameters(), lr=learn_rate)\n",
    "\n",
    "class CustomDataset(Dataset):\n",
    "    def __init__(self, df, transform=None):\n",
    "        self.df = df\n",
    "        self.transform = transform\n",
    "\n",
    "    def __len__(self):\n",
    "        return len(self.df)\n",
    "\n",
    "    def __getitem__(self, idx):\n",
    "        img_name = self.df.iloc[idx, 0]\n",
    "        img_path = f'{fine_tune_path}/{img_name}' ##### MAN KAN ÆNDRE PATH HER ift /class_0\n",
    "        image = Image.open(img_path).convert('RGB')\n",
    "        label = torch.tensor(self.df.iloc[idx, 2], dtype=torch.long)\n",
    "        if self.transform:\n",
    "            image = self.transform(image)\n",
    "        return image, label\n",
    "    def get_labels(self):\n",
    "        label = torch.tensor(self.df.iloc[:, 2].tolist(), dtype=torch.long)\n",
    "        return label\n",
    "    \n",
    "def init_dataloaders():\n",
    "        #DATA LABELS\n",
    "    df = pd.read_csv('img_labels_ALL.csv')\n",
    "\n",
    "    # Remove class 4 (images lablelled as bad examples)?\n",
    "    if use_class4 == False:\n",
    "        df = df[df['score'] != 4.0]\n",
    "    #df.head() #Sanity check\n",
    "\n",
    "    # Only use images that exist in the directory\n",
    "    image_folder = fine_tune_path\n",
    "    image_exists = df['img'].apply(lambda x: os.path.isfile(os.path.join(image_folder, x))) \n",
    "    filtered_df = df[image_exists]\n",
    "    print(f\"Original DataFrame size: {len(df)}, Filtered DataFrame size: {len(filtered_df)}\") #Sanity check\n",
    "    df = filtered_df\n",
    "\n",
    "    # Stratify/balance classes across splits\n",
    "    labels = df['score'].values\n",
    "    train_df, test_df = train_test_split(df, test_size=0.2, random_state=42, stratify=labels)\n",
    "    train_labels = train_df['score'].values\n",
    "    train_df, val_df = train_test_split(train_df, test_size=0.2, random_state=42, stratify=train_labels)\n",
    "\n",
    "    # Create data loaders for training and validation sets\n",
    "    test_data = CustomDataset(test_df, transform)\n",
    "    train_data = CustomDataset(train_df, transform)\n",
    "    val_data = CustomDataset(val_df, transform)\n",
    "\n",
    "    #More workers for GPU/lambda\n",
    "    if torch.cuda.is_available():\n",
    "        num_workers_local = 0\n",
    "        test_loader = DataLoader(test_data, batch_size=mes_batch_size, num_workers=num_workers_local)\n",
    "        train_loader = DataLoader(train_data, batch_size=mes_batch_size, sampler=ImbalancedDatasetSampler(train_data))#, num_workers=num_workers_local)\n",
    "        val_loader = DataLoader(val_data, batch_size=mes_batch_size, num_workers=num_workers_local)\n",
    "    else:\n",
    "        test_loader = DataLoader(test_data, batch_size=mes_batch_size)\n",
    "        train_loader = DataLoader(train_data, batch_size=mes_batch_size, sampler=ImbalancedDatasetSampler(train_data))\n",
    "        val_loader = DataLoader(val_data, batch_size=mes_batch_size)\n",
    "    return train_loader, val_loader, test_loader, test_data\n",
    "\n",
    "\n",
    "\n",
    "\n",
    "def single_mes_run(iteration=None):\n",
    "    if fine_tuning == True or three_shot:\n",
    "        train_loader, val_loader, test_loader, test_data = init_dataloaders()\n",
    "\n",
    "        from datetime import datetime\n",
    "        now = datetime.now()\n",
    "\n",
    "        # Format the datetime string to exclude the year\n",
    "        formatted_datetime = now.strftime(\"%m-%d_%H-%M\")\n",
    "        # Use the formatted datetime in the path\n",
    "        writer = SummaryWriter(os.path.join(\"logs\", \"MES\", f\"{formatted_datetime}_{run_name}_run{iteration}\"))\n",
    "    \n",
    "        best_val_loss = float('inf')\n",
    "        best_val_f1 = 0\n",
    "        step_count = 0\n",
    "        best_epoch_was = 0\n",
    "        for epoch in range(num_fine_epochs): #training loop\n",
    "            pbar = tqdm(iter(train_loader))\n",
    "            classifier.train() # Set the model to training mode\n",
    "            running_loss = 0.0\n",
    "            for images, labels in pbar: #do one epoch\n",
    "                # Move data to device\n",
    "                images = images.to(device)\n",
    "                labels = labels.to(device)\n",
    "\n",
    "                # Zero the parameter gradients\n",
    "                optimizer.zero_grad()\n",
    "                \n",
    "                # Forward pass\n",
    "                outputs = classifier(images)\n",
    "                \n",
    "                # Compute loss\n",
    "                loss = criterion(outputs, labels)\n",
    "                pbar.set_postfix({'step loss': loss.item(), 'epoch': epoch}, refresh=False)\n",
    "                writer.add_scalar('Fine_tune_loss/train-step', loss.item(), global_step=step_count)\n",
    "                \n",
    "                # Backward pass and optimize\n",
    "                loss.backward()\n",
    "                optimizer.step()\n",
    "                step_count += 1\n",
    "                # Update running loss\n",
    "                running_loss += loss.item() * images.size(0)\n",
    "            \n",
    "            #### EPOCH EVAL\n",
    "            # Train loss \n",
    "            epoch_loss = running_loss / len(train_loader.dataset)\n",
    "            writer.add_scalar('Fine_tune_loss/train-epoch', epoch_loss, global_step=step_count)\n",
    "            \n",
    "            # Val loss + f1\n",
    "            classifier.eval() # Set the model to evaluation mode\n",
    "            running_val_loss = 0.0\n",
    "            running_f1_score = 0.0\n",
    "            with torch.no_grad():\n",
    "                for images, labels in val_loader:\n",
    "                    images = images.to(device)\n",
    "                    labels = labels.to(device)\n",
    "                    outputs = classifier(images)\n",
    "                    val_loss = criterion(outputs, labels)\n",
    "                    \n",
    "                    # Calculate F1 score\n",
    "                    labels_list = labels.cpu().numpy().tolist()\n",
    "                    # Convert output scores to predicted class labels\n",
    "                    predicted_labels = torch.argmax(outputs, dim=1).cpu().numpy().tolist()\n",
    "                    val_f1 = f1_score(labels_list, predicted_labels, average='weighted')\n",
    "\n",
    "                    running_val_loss += val_loss.item() * images.size(0)\n",
    "                    running_f1_score += val_f1 * images.size(0)\n",
    "            \n",
    "            val_epoch_loss = running_val_loss / len(val_loader.dataset)\n",
    "            val_f1_score = running_f1_score / len(val_loader.dataset)\n",
    "            writer.add_scalar('Fine_tune_loss/val-epoch_loss', val_epoch_loss, global_step=step_count)\n",
    "            writer.add_scalar('Fine_tune_loss/val-epoch_f1', val_f1_score, global_step=step_count)\n",
    "\n",
    "            #### SAVING\n",
    "            #last\n",
    "            torch.save({\n",
    "                        'model_state_dict': classifier.state_dict(),\n",
    "                        'optimizer_state_dict': optimizer.state_dict(),\n",
    "                        'loss': loss.item(),\n",
    "                        }, f'C:\\\\Users\\\\alx\\\\Downloads\\\\mdl_ckpt\\\\mes_m-{mask_ratio}\\\\mes_last.pth')\n",
    "            \n",
    "            #best val_loss\n",
    "            if val_epoch_loss < best_val_loss:\n",
    "                best_epoch_was = epoch\n",
    "                best_val_loss = val_epoch_loss\n",
    "                torch.save({\n",
    "                        'model_state_dict': classifier.state_dict(),\n",
    "                        'optimizer_state_dict': optimizer.state_dict(),\n",
    "                        'loss': loss.item(),\n",
    "                        'best_epoch_was': best_epoch_was,\n",
    "                        }, f'C:\\\\Users\\\\alx\\\\Downloads\\\\mdl_ckpt\\\\mes_m-{mask_ratio}\\\\mes_best.pth')\n",
    "            \n",
    "            #best val_f1\n",
    "            if val_f1_score > best_val_f1:\n",
    "                best_f1_epoch_was = epoch\n",
    "                best_val_f1 = val_f1_score\n",
    "                torch.save({\n",
    "                        'model_state_dict': classifier.state_dict(),\n",
    "                        'optimizer_state_dict': optimizer.state_dict(),\n",
    "                        'loss': loss.item(),\n",
    "                        'best_epoch_was': best_f1_epoch_was,\n",
    "                        }, f'C:\\\\Users\\\\alx\\\\Downloads\\\\mdl_ckpt\\\\mes_m-{mask_ratio}\\\\mes_best_f1.pth')\n",
    "\n",
    "\n",
    "        print(f\"Fine-tuning complete. Best epoch was {best_epoch_was}\")\n",
    "    return test_loader, test_data, now, best_epoch_was, best_f1_epoch_was\n",
    "\n",
    "if three_shot == False and fine_tuning == True: #så må det jo være 1-shot\n",
    "    test_loader, test_data, now, best_epoch_was, best_f1_epoch_was = single_mes_run()"
   ]
  },
  {
   "cell_type": "markdown",
   "metadata": {},
   "source": [
    "# Load fine tuned:"
   ]
  },
  {
   "cell_type": "code",
   "execution_count": 13,
   "metadata": {},
   "outputs": [],
   "source": [
    "if load_fine_tuned or three_shot:\n",
    "    def load_fine_tuned_model(path):\n",
    "        load_prev_fine_model_path = path\n",
    "        import torch\n",
    "        import os\n",
    "        # try:\n",
    "        #     step_count\n",
    "        # except NameError:\n",
    "        #     step_count = 190000 // batch_size * 64\n",
    "        # Load the checkpoint\n",
    "        checkpoint = torch.load(load_prev_fine_model_path)\n",
    "        encoder = MAE_Encoder(image_size=dim, mask_ratio=mask_ratio, emb_dim=emb_dims) #xxx\n",
    "        # Load the model state dict\n",
    "        classifier = ViT_Classifier(encoder).to(device)#\n",
    "        classifier.load_state_dict(checkpoint['model_state_dict'])\n",
    "        \n",
    "        # Load the optimizer state dict\n",
    "        if custom_opt == \"prodigy\":\n",
    "            optimizer = Prodigy(classifier.parameters())\n",
    "        #optimizer.load_state_dict(checkpoint['optimizer_state_dict']) #do we need this?\n",
    "        elif custom_opt == \"adamW\":\n",
    "            optimizer = AdamW(classifier.parameters(), lr=learn_rate)\n",
    "        # Load the loss\n",
    "        loss = checkpoint['loss']\n",
    "        try:\n",
    "            best_epoch_was = checkpoint['best_epoch_was']\n",
    "        except KeyError:\n",
    "            best_epoch_was = num_fine_epochs\n",
    "        \n",
    "        \n",
    "        print(f\"Model loaded with loss: {loss}, where best/last epoch was {best_epoch_was}\")\n",
    "        return classifier, optimizer, loss, best_epoch_was\n",
    "    \n",
    "if not three_shot and load_fine_tuned:\n",
    "    classifier, optimizer, loss, best_epoch_was = load_fine_tuned_model(load_prev_fine_model_path)\n"
   ]
  },
  {
   "cell_type": "markdown",
   "metadata": {},
   "source": [
    "# Eval fine tuned calc"
   ]
  },
  {
   "cell_type": "code",
   "execution_count": 14,
   "metadata": {},
   "outputs": [],
   "source": [
    "if fine_tune_eval == True or three_shot:    \n",
    "    def calculate_evaluation_metrics(classifier, test_data):\n",
    "        # from sklearn.metrics import classification_report\n",
    "        # from concurrent.futures import ThreadPoolExecutor\n",
    "        from sklearn.metrics import f1_score, precision_score, recall_score, confusion_matrix, accuracy_score\n",
    "\n",
    "\n",
    "        from tqdm import tqdm\n",
    "        import seaborn as sns\n",
    "        import matplotlib.pyplot as plt\n",
    "\n",
    "        def evaluate_single_sample(i):\n",
    "            # Get the sample from the dataset\n",
    "            sample, true_label = test_data[i]\n",
    "            \n",
    "            # Move the sample to the same device as the model\n",
    "            sample = sample.to(device)\n",
    "            \n",
    "            # Pass the sample through the model\n",
    "            with torch.no_grad():\n",
    "                prediction = classifier(sample.unsqueeze(0))  # Unsqueeze to add batch dimension\n",
    "\n",
    "            class_probabilities = prediction[0]\n",
    "\n",
    "\n",
    "            _, predicted_class = torch.max(class_probabilities, dim=0)\n",
    "\n",
    "            # Move the predicted_class back to CPU for further operations\n",
    "            predicted_class = predicted_class.to('cpu')\n",
    "            \n",
    "\n",
    "            \n",
    "            # Return the true label and the predicted class\n",
    "            return true_label.item(), predicted_class.item()\n",
    "\n",
    "        # Ensure the model is in evaluation mode\n",
    "        classifier.eval()\n",
    "\n",
    "        # Shared lists to store true labels and predicted classes\n",
    "        true_labels_list = []\n",
    "        predicted_classes_list = []\n",
    "\n",
    "        # Evaluate all samples sequentially\n",
    "        for i in tqdm(range(len(test_data)), desc='Evaluating'):\n",
    "            true_label, predicted_class = evaluate_single_sample(i)\n",
    "            true_labels_list.append(true_label)\n",
    "            predicted_classes_list.append(predicted_class)\n",
    "\n",
    "        # Assuming `true_labels` and `predicted_labels` are already defined\n",
    "        f1 = f1_score(true_labels_list, predicted_classes_list, average='weighted')\n",
    "        accuracy = accuracy_score(true_labels_list, predicted_classes_list)\n",
    "        precision = precision_score(true_labels_list, predicted_classes_list, average='weighted')\n",
    "        recall = recall_score(true_labels_list, predicted_classes_list, average='weighted')\n",
    "        cm = confusion_matrix(true_labels_list, predicted_classes_list)\n",
    "    \n",
    "        return f1, accuracy, precision, recall, cm\n",
    "\n",
    "# f1, accuracy, precision, recall, cm = calculate_evaluation_metrics(classifier, test_data)"
   ]
  },
  {
   "cell_type": "markdown",
   "metadata": {},
   "source": [
    "# Num params in clf"
   ]
  },
  {
   "cell_type": "code",
   "execution_count": 15,
   "metadata": {},
   "outputs": [
    {
     "name": "stdout",
     "output_type": "stream",
     "text": [
      "Total number of parameters: 5,518,084\n"
     ]
    }
   ],
   "source": [
    "total_params = sum(p.numel() for p in classifier.parameters())\n",
    "print(f\"Total number of parameters: {total_params:,.0f}\")"
   ]
  },
  {
   "cell_type": "markdown",
   "metadata": {},
   "source": [
    "# Eval fine tune plot"
   ]
  },
  {
   "cell_type": "code",
   "execution_count": 16,
   "metadata": {},
   "outputs": [],
   "source": [
    "if fine_tune_eval == True or three_shot:\n",
    "    def mes_run_eval_plot(f1, accuracy, precision, recall, cm, iteration, model_used, best_epoch_was, eval_plot_name):   \n",
    "        import matplotlib.pyplot as plt\n",
    "        import seaborn as sns\n",
    "        def format_number(num):\n",
    "            if num >= 1000000:\n",
    "                return f\"{num // 1000000}M\"\n",
    "            elif num >= 1000:\n",
    "                return f\"{num // 1000}K\"\n",
    "            else:\n",
    "                return str(num)\n",
    "        \n",
    "        # Create a figure and a 2x1 grid of subplots\n",
    "        fig, axs = plt.subplots(1, 2, figsize=(15, 7))\n",
    "\n",
    "        # Confusion matrix subplot\n",
    "        sns.heatmap(cm, annot=True, fmt='d', cmap='Blues', cbar=False, ax=axs[0])\n",
    "        axs[0].set_title('Confusion Matrix')\n",
    "        axs[0].set_xlabel('Predicted')\n",
    "        axs[0].set_ylabel('True')\n",
    "\n",
    "        # F1 Score, Precision, Recall, and Accuracy subplot\n",
    "        num_train_samples = len(dataloader)*MAE_batch_size # MAE image count we are interested in here\n",
    "        num_train_samples = format_number(num_train_samples)\n",
    "        total_params = sum(p.numel() for p in classifier.parameters())\n",
    "        axs[1].set_title(f'Last/best/best_f1: {model_used}, run {iteration + 1} \\n optimizer = {custom_opt}, MES-bs: {mes_batch_size}, MAE-bs {MAE_batch_size} \\n MAE pretrained on {num_train_samples} training images, for: {num_epochs}e, MES fine-tuned for: {num_fine_epochs}e, \\n masking ratio: {mask_ratio}, model has {total_params:,.0f} num params. \\n Best val loss was on epoch {best_epoch_was}')\n",
    "        axs[1].text(0.5, 0.8, f'F1 Score: {f1:.2f}', horizontalalignment='center', verticalalignment='center', fontsize=14)\n",
    "        axs[1].text(0.5, 0.4, f'Precision: {precision:.2f}', horizontalalignment='center', verticalalignment='center', fontsize=14)\n",
    "        axs[1].text(0.5, 0.2, f'Recall: {recall:.2f}', horizontalalignment='center', verticalalignment='center', fontsize=14)\n",
    "        axs[1].text(0.5, 0.6, f'Accuracy: {accuracy:.2f}', horizontalalignment='center', verticalalignment='center', fontsize=14)\n",
    "        axs[1].axis('off')\n",
    "        \n",
    "        fig.suptitle(f'MES evaluation', fontsize=20)\n",
    "        plt.tight_layout()\n",
    "        plt.savefig(f'./plots/eval_plot-{eval_plot_name}.png')\n",
    "        plt.show()\n",
    "\n",
    "    # mes_run_eval_plot(f1, accuracy, precision, recall, cm)"
   ]
  },
  {
   "cell_type": "markdown",
   "metadata": {},
   "source": [
    "# DO 3 MES runs"
   ]
  },
  {
   "cell_type": "code",
   "execution_count": 17,
   "metadata": {},
   "outputs": [
    {
     "name": "stdout",
     "output_type": "stream",
     "text": [
      "### RUN 2/3 ###\n",
      "Original DataFrame size: 1738, Filtered DataFrame size: 1738\n"
     ]
    },
    {
     "name": "stderr",
     "output_type": "stream",
     "text": [
      "100%|██████████| 35/35 [00:29<00:00,  1.18it/s, step loss=0.000493, epoch=0]\n",
      "100%|██████████| 35/35 [00:29<00:00,  1.19it/s, step loss=0.00048, epoch=1] \n",
      "100%|██████████| 35/35 [00:29<00:00,  1.20it/s, step loss=0.000339, epoch=2]\n",
      "100%|██████████| 35/35 [00:29<00:00,  1.19it/s, step loss=0.000468, epoch=3]\n",
      "100%|██████████| 35/35 [00:29<00:00,  1.20it/s, step loss=0.000413, epoch=4]\n",
      "100%|██████████| 35/35 [00:29<00:00,  1.19it/s, step loss=0.00043, epoch=5] \n",
      "100%|██████████| 35/35 [00:29<00:00,  1.19it/s, step loss=0.000573, epoch=6]\n",
      "100%|██████████| 35/35 [00:29<00:00,  1.19it/s, step loss=0.000298, epoch=7]\n",
      "100%|██████████| 35/35 [00:29<00:00,  1.19it/s, step loss=0.000387, epoch=8]\n",
      "100%|██████████| 35/35 [00:29<00:00,  1.18it/s, step loss=0.000402, epoch=9]\n",
      "100%|██████████| 35/35 [00:29<00:00,  1.19it/s, step loss=0.000311, epoch=10]\n",
      "100%|██████████| 35/35 [00:29<00:00,  1.20it/s, step loss=0.000275, epoch=11]\n",
      "100%|██████████| 35/35 [00:29<00:00,  1.19it/s, step loss=0.000343, epoch=12]\n",
      "100%|██████████| 35/35 [00:29<00:00,  1.19it/s, step loss=0.000306, epoch=13]\n",
      "100%|██████████| 35/35 [00:29<00:00,  1.19it/s, step loss=0.000318, epoch=14]\n",
      "100%|██████████| 35/35 [00:29<00:00,  1.19it/s, step loss=0.000254, epoch=15]\n",
      "100%|██████████| 35/35 [00:29<00:00,  1.18it/s, step loss=0.000314, epoch=16]\n",
      "100%|██████████| 35/35 [00:29<00:00,  1.20it/s, step loss=0.000293, epoch=17]\n",
      "100%|██████████| 35/35 [00:29<00:00,  1.20it/s, step loss=0.00028, epoch=18] \n",
      "100%|██████████| 35/35 [00:29<00:00,  1.18it/s, step loss=0.000326, epoch=19]\n"
     ]
    },
    {
     "name": "stdout",
     "output_type": "stream",
     "text": [
      "Fine-tuning complete. Best epoch was 0\n"
     ]
    },
    {
     "name": "stderr",
     "output_type": "stream",
     "text": [
      "Evaluating: 100%|██████████| 348/348 [00:12<00:00, 28.47it/s]\n"
     ]
    },
    {
     "data": {
      "image/png": "[encoded data removed]",
      "text/plain": [
       "<Figure size 1500x700 with 2 Axes>"
      ]
     },
     "metadata": {},
     "output_type": "display_data"
    },
    {
     "name": "stdout",
     "output_type": "stream",
     "text": [
      "Model loaded with loss: 0.0004925778484903276, where best/last epoch was 0\n"
     ]
    },
    {
     "name": "stderr",
     "output_type": "stream",
     "text": [
      "Evaluating: 100%|██████████| 348/348 [00:12<00:00, 27.45it/s]\n"
     ]
    },
    {
     "data": {
      "image/png": "[encoded data removed]",
      "text/plain": [
       "<Figure size 1500x700 with 2 Axes>"
      ]
     },
     "metadata": {},
     "output_type": "display_data"
    },
    {
     "name": "stdout",
     "output_type": "stream",
     "text": [
      "Model loaded with loss: 0.0004925778484903276, where best/last epoch was 0\n"
     ]
    },
    {
     "name": "stderr",
     "output_type": "stream",
     "text": [
      "Evaluating: 100%|██████████| 348/348 [00:12<00:00, 28.02it/s]\n"
     ]
    },
    {
     "data": {
      "image/png": "[encoded data removed]",
      "text/plain": [
       "<Figure size 1500x700 with 2 Axes>"
      ]
     },
     "metadata": {},
     "output_type": "display_data"
    }
   ],
   "source": [
    "if three_shot:\n",
    "    #load MAE \n",
    "    from sklearn.metrics import f1_score\n",
    "    from IPython.display import clear_output\n",
    "    mes_load_dir =  f'C:\\\\Users\\\\alx\\\\Downloads\\\\mdl_ckpt\\mes_m-{mask_ratio}' #used for loading\n",
    "\n",
    "    for i in range(3): #3 MES runs\n",
    "        clear_output()\n",
    "        print(f'### RUN {i}/3 ###')\n",
    "        \n",
    "        #run MES training:\n",
    "        test_loader, test_data, now, best_epoch_was, best_f1_epoch_was = single_mes_run(i)\n",
    "\n",
    "        # run eval on last model\n",
    "        #direkte\n",
    "        model_used = 'last'\n",
    "        eval_plot_name = f\"MAE-370K_opt-{custom_opt}_max-e-{num_epochs}_MAE_mes-bs-{MAE_batch_size}_{mes_batch_size}_mask-{mask_ratio}_embdims-{emb_dims}_fine-e-{num_fine_epochs}_last_run{i+1}\"\n",
    "        f1, accuracy, precision, recall, cm = calculate_evaluation_metrics(classifier, test_data)\n",
    "        mes_run_eval_plot(f1, accuracy, precision, recall, cm, i, model_used, best_epoch_was, eval_plot_name)\n",
    "\n",
    "        # run eval on best  val loss model\n",
    "        #load best.pth\n",
    "        specific_model_path = 'mes_best.pth'\n",
    "        specific_load_path = os.path.join(mes_load_dir, specific_model_path)\n",
    "        load_fine_tuned_model(path=specific_load_path)\n",
    "        \n",
    "        model_used = 'best_val_loss'\n",
    "        eval_plot_name = f\"MAE-370K_opt-{custom_opt}_max-e-{num_epochs}_MAE_mes-bs-{MAE_batch_size}_{mes_batch_size}_mask-{mask_ratio}_embdims-{emb_dims}_fine-e-{num_fine_epochs}_best-valloss_run{i+1}\"\n",
    "        f1, accuracy, precision, recall, cm = calculate_evaluation_metrics(classifier, test_data)\n",
    "        mes_run_eval_plot(f1, accuracy, precision, recall, cm, i, model_used, best_epoch_was, eval_plot_name)\n",
    "\n",
    "\n",
    "        # run eval on best f1 score\n",
    "        #load best_f1.pth\n",
    "        specific_model_path = 'mes_best_f1.pth'\n",
    "        specific_load_path_f1 = os.path.join(mes_load_dir, specific_model_path)\n",
    "        load_fine_tuned_model(path=specific_load_path_f1)\n",
    "\n",
    "        model_used = 'best_val_f1'\n",
    "        eval_plot_name = f\"MAE-370K_opt-{custom_opt}_max-e-{num_epochs}_MAE_mes-bs-{MAE_batch_size}_{mes_batch_size}_mask-{mask_ratio}_embdims-{emb_dims}_fine-e-{num_fine_epochs}_best-val-f1_run{i+1}\"\n",
    "        f1, accuracy, precision, recall, cm = calculate_evaluation_metrics(classifier, test_data)\n",
    "        mes_run_eval_plot(f1, accuracy, precision, recall, cm, i, model_used, best_epoch_was, eval_plot_name)\n",
    "\n"
   ]
  },
  {
   "cell_type": "code",
   "execution_count": 18,
   "metadata": {},
   "outputs": [
    {
     "name": "stdout",
     "output_type": "stream",
     "text": [
      "Total runtime of this run: 20.0 hrs\n"
     ]
    }
   ],
   "source": [
    "end_time = time.time()\n",
    "total_time = end_time - start_time\n",
    "print(f\"Total runtime of this run: {total_time//60//60} hrs\")"
   ]
  },
  {
   "cell_type": "code",
   "execution_count": 19,
   "metadata": {},
   "outputs": [],
   "source": [
    "if os.name == 'nt':\n",
    "    import winsound\n",
    "\n",
    "    # Play a sound\n",
    "    winsound.PlaySound(\"SystemExit\", winsound.SND_ALIAS)\n",
    "    winsound.PlaySound(\"SystemExit\", winsound.SND_ALIAS)\n",
    "    winsound.PlaySound(\"SystemExit\", winsound.SND_ALIAS)\n",
    "    winsound.PlaySound(\"SystemExit\", winsound.SND_ALIAS)\n",
    "    winsound.PlaySound(\"SystemExit\", winsound.SND_ALIAS)"
   ]
  }
 ],
 "metadata": {
  "kernelspec": {
   "display_name": "BA",
   "language": "python",
   "name": "python3"
  },
  "language_info": {
   "codemirror_mode": {
    "name": "ipython",
    "version": 3
   },
   "file_extension": ".py",
   "mimetype": "text/x-python",
   "name": "python",
   "nbconvert_exporter": "python",
   "pygments_lexer": "ipython3",
   "version": "3.11.8"
  }
 },
 "nbformat": 4,
 "nbformat_minor": 2
}
