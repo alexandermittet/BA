{
 "cells": [
  {
   "cell_type": "code",
   "execution_count": 1,
   "metadata": {},
   "outputs": [],
   "source": [
    "from skimage.metrics import structural_similarity as ssim\n",
    "import cv2\n",
    "import numpy as np"
   ]
  },
  {
   "cell_type": "code",
   "execution_count": 2,
   "metadata": {},
   "outputs": [],
   "source": [
    "def load_and_resize_images(target_path, ground_truth_path):\n",
    "    # Load images\n",
    "    target_img = cv2.imread(target_path)\n",
    "    ground_truth_img = cv2.imread(ground_truth_path)\n",
    "\n",
    "    # Find the minimum dimensions\n",
    "    min_height = min(target_img.shape[0], ground_truth_img.shape[0])\n",
    "    min_width = min(target_img.shape[1], ground_truth_img.shape[1])\n",
    "\n",
    "    # Resize images to the minimum dimensions\n",
    "    target_img_resized = cv2.resize(target_img, (min_width, min_height))\n",
    "    ground_truth_img_resized = cv2.resize(ground_truth_img, (min_width, min_height))\n",
    "\n",
    "    return target_img_resized, ground_truth_img_resized"
   ]
  },
  {
   "cell_type": "code",
   "execution_count": 3,
   "metadata": {},
   "outputs": [],
   "source": [
    "def calculate_color_ssim(target_img, ground_truth_img):\n",
    "    # Ensure both images have the same number of channels\n",
    "    assert target_img.shape == ground_truth_img.shape, \"Images must have the same dimensions\"\n",
    "\n",
    "    # Initialize list to store SSIM scores for each channel\n",
    "    ssim_scores = []\n",
    "\n",
    "    # Iterate over each channel\n",
    "    for ch in range(target_img.shape[-1]):\n",
    "        # Extract channel\n",
    "        target_channel = target_img[:, :, ch]\n",
    "        ground_truth_channel = ground_truth_img[:, :, ch]\n",
    "\n",
    "        # Calculate SSIM for the channel\n",
    "        score = ssim(target_channel, ground_truth_channel)\n",
    "\n",
    "        # Append score to list\n",
    "        ssim_scores.append(score)\n",
    "\n",
    "    # Return average SSIM score across all channels\n",
    "    return np.mean(ssim_scores)"
   ]
  },
  {
   "cell_type": "code",
   "execution_count": 5,
   "metadata": {},
   "outputs": [
    {
     "name": "stdout",
     "output_type": "stream",
     "text": [
      "SSIM Score: 0.7911695715089125\n"
     ]
    }
   ],
   "source": [
    "# Paths to your images\n",
    "target_image_path = '/Users/alexandermittet/Documents/Seafile/ba-projekt/utils/ssim check/75pred.png'\n",
    "ground_truth_image_path = '/Users/alexandermittet/Documents/Seafile/ba-projekt/utils/ssim check/75gt.png'\n",
    "\n",
    "\n",
    "# Load and resize images\n",
    "target_img, ground_truth_img = load_and_resize_images(target_image_path, ground_truth_image_path)\n",
    "\n",
    "# Calculate SSIM score for color images\n",
    "ssim_score = calculate_color_ssim(target_img, ground_truth_img)\n",
    "\n",
    "print(f'SSIM Score: {ssim_score}')"
   ]
  },
  {
   "cell_type": "markdown",
   "metadata": {},
   "source": [
    "50% masking:\n",
    "\n",
    "GT vs PRED: \n",
    "SSIM Score: 0.7991722417961404\n",
    "\n",
    "GT vs avg blur: \n",
    "SSIM Score: 0.5185570952944604\n"
   ]
  },
  {
   "cell_type": "code",
   "execution_count": 7,
   "metadata": {},
   "outputs": [
    {
     "name": "stdout",
     "output_type": "stream",
     "text": [
      "difference 0.50:\n"
     ]
    },
    {
     "data": {
      "text/plain": [
       "0.28061514650168007"
      ]
     },
     "execution_count": 7,
     "metadata": {},
     "output_type": "execute_result"
    }
   ],
   "source": [
    "print('difference 0.50:')\n",
    "0.7991722417961404 - 0.5185570952944604"
   ]
  },
  {
   "cell_type": "markdown",
   "metadata": {},
   "source": [
    "75% masking:\n",
    "\n",
    "GT vs PRED: \n",
    "SSIM Score: 0.7911695715089125\n",
    "\n",
    "GT vs avg blur: \n",
    "SSIM Score: 0.5797447104920808\n",
    "\n",
    "Diff =  0.212\n"
   ]
  },
  {
   "cell_type": "code",
   "execution_count": 8,
   "metadata": {},
   "outputs": [
    {
     "name": "stdout",
     "output_type": "stream",
     "text": [
      "difference 0.75:\n"
     ]
    },
    {
     "data": {
      "text/plain": [
       "0.21142486101683178"
      ]
     },
     "execution_count": 8,
     "metadata": {},
     "output_type": "execute_result"
    }
   ],
   "source": [
    "print('difference 0.75:')\n",
    "0.7911695715089125 - 0.5797447104920808"
   ]
  },
  {
   "cell_type": "code",
   "execution_count": 9,
   "metadata": {},
   "outputs": [
    {
     "name": "stdout",
     "output_type": "stream",
     "text": [
      "difference in difference:\n"
     ]
    },
    {
     "data": {
      "text/plain": [
       "0.06919028548484829"
      ]
     },
     "execution_count": 9,
     "metadata": {},
     "output_type": "execute_result"
    }
   ],
   "source": [
    "print('difference in difference:')\n",
    "\n",
    "0.28061514650168007 - 0.21142486101683178"
   ]
  },
  {
   "cell_type": "code",
   "execution_count": null,
   "metadata": {},
   "outputs": [],
   "source": []
  }
 ],
 "metadata": {
  "kernelspec": {
   "display_name": "BA",
   "language": "python",
   "name": "python3"
  },
  "language_info": {
   "codemirror_mode": {
    "name": "ipython",
    "version": 3
   },
   "file_extension": ".py",
   "mimetype": "text/x-python",
   "name": "python",
   "nbconvert_exporter": "python",
   "pygments_lexer": "ipython3",
   "version": "3.11.7"
  }
 },
 "nbformat": 4,
 "nbformat_minor": 2
}
